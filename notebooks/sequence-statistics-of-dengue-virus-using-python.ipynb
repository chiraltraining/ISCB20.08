{
 "cells": [
  {
   "cell_type": "markdown",
   "metadata": {},
   "source": [
    "# Statistical Analysis of Dengue Virus using Python\n",
    "In this kernel, you'll learn to explore DNA and Protein sequence statistics by using Python, Biopython and Scikit-bio. \n",
    "\n",
    "## Table of Contents \n",
    "- Exploring Sequence \n",
    "- Reading and Cleaning Sequence \n",
    "\n",
    "- DNA Sequence Statistics \n",
    "    - Sequence Length \n",
    "    - Nucleotide Frequency\n",
    "    - Nucleotide Percentage \n",
    "    - Plotting Nucleotide Frequency Distribution \n",
    "    - K-mer Analysis \n",
    "    - Plotting K-mer Frequency Distribution\n",
    "    - Hamming Distance using Python\n",
    "    - Hamming Distance using Scikit-bio \n",
    "    - Calculate GC Content \n",
    "    - Sliding Window Analysis of GC \n",
    "    - Calculate AT Content\n",
    "    - Sliding Window Analysis of AT \n",
    "    - Dotplot: for DNA Sequence \n",
    "    - Nucleotide Density Plot \n",
    "    - Dimer Density Plot \n",
    "- Translation and Protein Sequence Statistics \n",
    "    - Load Sequence using Biopython \n",
    "    - Convert DNA Letter into Seq Object \n",
    "    - Translation \n",
    "    - Protein Length \n",
    "    - Protein Frequency \n",
    "    - Plotting Protein Frequency Distribution \n",
    "    - Dot Plot: for Protein Sequence \n",
    "    \n",
    "- Sequence Alignment \n",
    "    - Local Alignment \n",
    "    - Global Alignment \n",
    "    - Alignment Printing \n",
    "    - Alignment Scores \n",
    "    - Smilarity Check "
   ]
  },
  {
   "cell_type": "markdown",
   "metadata": {},
   "source": [
    "## Load Packages "
   ]
  },
  {
   "cell_type": "code",
   "execution_count": null,
   "metadata": {
    "_cell_guid": "b1076dfc-b9ad-4769-8c92-a6c4dae69d19",
    "_uuid": "8f2839f25d086af736a60e9eeb907d3b93b6e0e5"
   },
   "outputs": [],
   "source": [
    "# for sequence analysis \n",
    "from collections import Counter\n",
    "import Bio \n",
    "from skbio import Sequence\n",
    "from skbio.sequence.distance import hamming\n",
    "from Bio import SeqIO\n",
    "import pandas as pd\n",
    "import numpy as np\n",
    "\n",
    "# for data visualization\n",
    "import matplotlib.pyplot as plt\n",
    "import seaborn as sns\n",
    "sns.set_style('whitegrid')\n",
    "\n",
    "# set figuresize and fontsize\n",
    "plt.rcParams['figure.figsize'] = (10,6)\n",
    "plt.rcParams['font.size'] = 14\n",
    "\n",
    "# data files \n",
    "import os \n",
    "for dirname, _, filenames in os.walk('/kaggle/input'):\n",
    "    for filename in filenames:\n",
    "        print(os.path.join(dirname, filename))"
   ]
  },
  {
   "cell_type": "markdown",
   "metadata": {},
   "source": [
    "## Explore Sequence \n",
    "- `head`: to examine first few lines of sequence \n",
    "- `tail`: to examine last few lines of sequence "
   ]
  },
  {
   "cell_type": "code",
   "execution_count": null,
   "metadata": {},
   "outputs": [],
   "source": [
    "# examine first few lines of den-1 \n",
    "!head /kaggle/input/dengue-virus-4-complete-genomes/den1.fasta"
   ]
  },
  {
   "cell_type": "code",
   "execution_count": null,
   "metadata": {},
   "outputs": [],
   "source": [
    "# examine last few lines of den-1 \n",
    "!tail /kaggle/input/dengue-virus-4-complete-genomes/den1.fasta"
   ]
  },
  {
   "cell_type": "code",
   "execution_count": null,
   "metadata": {},
   "outputs": [],
   "source": [
    "# examine first few lines of den-2 \n",
    "!head /kaggle/input/dengue-virus-4-complete-genomes/den2.fasta"
   ]
  },
  {
   "cell_type": "code",
   "execution_count": null,
   "metadata": {},
   "outputs": [],
   "source": [
    "# examine last few lines of den-2 \n",
    "!tail /kaggle/input/dengue-virus-4-complete-genomes/den2.fasta"
   ]
  },
  {
   "cell_type": "code",
   "execution_count": null,
   "metadata": {},
   "outputs": [],
   "source": [
    "# examine first few lines of den-3 \n",
    "!head /kaggle/input/dengue-virus-4-complete-genomes/den3.fasta"
   ]
  },
  {
   "cell_type": "code",
   "execution_count": null,
   "metadata": {},
   "outputs": [],
   "source": [
    "# examine last few lines of den-1 \n",
    "!tail /kaggle/input/dengue-virus-4-complete-genomes/den3.fasta"
   ]
  },
  {
   "cell_type": "code",
   "execution_count": null,
   "metadata": {},
   "outputs": [],
   "source": [
    "# examine first few lines of den-4\n",
    "!head /kaggle/input/dengue-virus-4-complete-genomes/den4.fasta"
   ]
  },
  {
   "cell_type": "code",
   "execution_count": null,
   "metadata": {},
   "outputs": [],
   "source": [
    "# examine last few lines of den-1 \n",
    "!tail /kaggle/input/dengue-virus-4-complete-genomes/den4.fasta"
   ]
  },
  {
   "cell_type": "markdown",
   "metadata": {},
   "source": [
    "## Reading and Cleaning Sequence in Python"
   ]
  },
  {
   "cell_type": "code",
   "execution_count": null,
   "metadata": {},
   "outputs": [],
   "source": [
    "def readFASTA(inputfile): \n",
    "    \"\"\"Reads a sequence file and returns as string\"\"\"\n",
    "    with open(inputfile, \"r\") as seqfile:\n",
    "        # skip the name line \n",
    "        seq = seqfile.readline()\n",
    "        seq = seqfile.read()\n",
    "        seq = seq.replace(\"\\n\", \"\")\n",
    "        seq = seq.replace(\"\\t\", \"\") \n",
    "    return seq "
   ]
  },
  {
   "cell_type": "code",
   "execution_count": null,
   "metadata": {},
   "outputs": [],
   "source": [
    "# load sequence \n",
    "den1 = readFASTA('/kaggle/input/dengue-virus-4-complete-genomes/den1.fasta')\n",
    "den2 = readFASTA('/kaggle/input/dengue-virus-4-complete-genomes/den2.fasta')\n",
    "den3 = readFASTA('/kaggle/input/dengue-virus-4-complete-genomes/den3.fasta')\n",
    "den4 = readFASTA('/kaggle/input/dengue-virus-4-complete-genomes/den4.fasta')"
   ]
  },
  {
   "cell_type": "markdown",
   "metadata": {},
   "source": [
    "## DNA Sequence Length"
   ]
  },
  {
   "cell_type": "code",
   "execution_count": null,
   "metadata": {},
   "outputs": [],
   "source": [
    "print(\"Length of DEN1: \", len(den1))\n",
    "print(\"Length of DEN2: \", len(den2))\n",
    "print(\"Length of DEN3: \", len(den3))\n",
    "print(\"Length of DEN4: \", len(den4))"
   ]
  },
  {
   "cell_type": "markdown",
   "metadata": {},
   "source": [
    "## Nucleotide Frequency-1\n",
    "- Counts only A, T, G, C "
   ]
  },
  {
   "cell_type": "code",
   "execution_count": null,
   "metadata": {},
   "outputs": [],
   "source": [
    "from collections import Counter\n",
    "def basecount_fast(seq): \n",
    "    \"\"\"\"Count the frequencies of each bases in sequence including every letter\"\"\" \n",
    "    freqs = Counter(seq)\n",
    "    return freqs"
   ]
  },
  {
   "cell_type": "code",
   "execution_count": null,
   "metadata": {},
   "outputs": [],
   "source": [
    "print(\"Frequency of DEN1: \", basecount_fast(den1))\n",
    "print(\"Frequency of DEN2: \", basecount_fast(den2))\n",
    "print(\"Frequency of DEN3: \", basecount_fast(den3))\n",
    "print(\"Frequency of DEN4: \", basecount_fast(den4))"
   ]
  },
  {
   "cell_type": "markdown",
   "metadata": {},
   "source": [
    "## Nucleotide Frequency-2\n",
    "- Calculate percentage of nucleotide \n",
    "- Counts A, T, G, C with other occurances, such as `N` "
   ]
  },
  {
   "cell_type": "code",
   "execution_count": null,
   "metadata": {},
   "outputs": [],
   "source": [
    "def ntFrequency(seq, useall=False, calpc=False):\n",
    "    \"\"\"Count the frequencies of each bases in sequence including every letter\"\"\"\n",
    "    length = len(seq)\n",
    "    if calpc:\n",
    "        # Make a dictionary \"freqs\" to contain the frequency(in % ) of each base.\n",
    "        freqs = {}\n",
    "    else:\n",
    "        # Make a dictionary \"base_counts\" to contain the frequency(whole number) of each base.\n",
    "        base_counts = {}\n",
    "    if useall:\n",
    "        # If we want to look at every letter that appears in the sequence.\n",
    "        seqset = set(seq)\n",
    "    else:\n",
    "        # If we just want to look at the four bases A, T, C, G\n",
    "        seqset = (\"A\", \"T\", \"G\", \"C\")\n",
    "\n",
    "    for letter in seqset:\n",
    "        num = seq.count(letter)\n",
    "        if calpc:\n",
    "            # The frequency is calculated out of the total sequence length, even though some bases are not A, T, C, G\n",
    "            freq = round(num/length, 2)\n",
    "            freqs[letter] = freq\n",
    "        else:\n",
    "            # Contain the actual number of bases.\n",
    "            base_counts[letter] = num\n",
    "    if calpc:\n",
    "        return freqs\n",
    "    else:\n",
    "        return base_counts"
   ]
  },
  {
   "cell_type": "markdown",
   "metadata": {},
   "source": [
    "### Frequency"
   ]
  },
  {
   "cell_type": "code",
   "execution_count": null,
   "metadata": {},
   "outputs": [],
   "source": [
    "print(\"Frequency of DEN1: \", ntFrequency(den1, useall=True))\n",
    "print(\"Frequency of DEN2: \", ntFrequency(den2,  useall=True))\n",
    "print(\"Frequency of DEN3: \", ntFrequency(den3,  useall=True))\n",
    "print(\"Frequency of DEN4: \", ntFrequency(den4,  useall=True))"
   ]
  },
  {
   "cell_type": "markdown",
   "metadata": {},
   "source": [
    "### Percentage"
   ]
  },
  {
   "cell_type": "code",
   "execution_count": null,
   "metadata": {},
   "outputs": [],
   "source": [
    "print(\"Percentage of DEN1: \", ntFrequency(den1, calpc=True))\n",
    "print(\"Percentage of DEN2: \", ntFrequency(den2, calpc=True))\n",
    "print(\"Percentage of DEN3: \", ntFrequency(den3, calpc=True))\n",
    "print(\"Percentage of DEN4: \", ntFrequency(den4, calpc=True))"
   ]
  },
  {
   "cell_type": "markdown",
   "metadata": {},
   "source": [
    "## Plotting Nucleotide Frequency Distribution\n",
    "- We can visualize the frequency distribution with bar chart or pie chart "
   ]
  },
  {
   "cell_type": "code",
   "execution_count": null,
   "metadata": {},
   "outputs": [],
   "source": [
    "def plotNucleotideFrequency(seq, title= False, xlab=\"Bases\",ylab=\"Frequency\", kind=None):\n",
    "    \"\"\"Plots the Nucleotide Frequency\"\"\"\n",
    "    if kind == 'bar':\n",
    "        freq = ntFrequency(seq)\n",
    "        df = pd.DataFrame(freq.items(), columns = ['letters', 'frequency'])\n",
    "        sns.barplot(x='letters', y='frequency', data=df)\n",
    "        plt.title(title)\n",
    "        plt.xlabel(xlab)\n",
    "        plt.ylabel(ylab)\n",
    "        plt.tight_layout()\n",
    "        plt.show()\n",
    "    elif kind == 'pie':\n",
    "        freq = ntFrequency(seq)\n",
    "        plt.pie(freq.values(), labels=freq.keys(), autopct='%1.1f%%', shadow=True)\n",
    "        plt.tight_layout()\n",
    "        plt.show()\n",
    "    else:\n",
    "        print(\"Please select your visualization type either bar or pie chart!\")"
   ]
  },
  {
   "cell_type": "code",
   "execution_count": null,
   "metadata": {},
   "outputs": [],
   "source": [
    "# frequency distribution of den1 \n",
    "plotNucleotideFrequency(den1, \"Nucleotide Frequency Distribution of DEN1\", kind='bar')"
   ]
  },
  {
   "cell_type": "code",
   "execution_count": null,
   "metadata": {},
   "outputs": [],
   "source": [
    "# frequency distribution of den2\n",
    "plotNucleotideFrequency(den2, \"Nucleotide Frequency Distribution of DEN2\", kind='bar')"
   ]
  },
  {
   "cell_type": "code",
   "execution_count": null,
   "metadata": {},
   "outputs": [],
   "source": [
    "# frequency distribution of den3\n",
    "plotNucleotideFrequency(den3, \"Nucleotide Frequency Distribution of DEN3\", kind='bar')"
   ]
  },
  {
   "cell_type": "code",
   "execution_count": null,
   "metadata": {},
   "outputs": [],
   "source": [
    "# frequency distribution of den4\n",
    "plotNucleotideFrequency(den4, \"Nucleotide Frequency Distribution of DEN4\", kind='bar')"
   ]
  },
  {
   "cell_type": "markdown",
   "metadata": {},
   "source": [
    "## Put it Together: Bar Charts\n",
    "- Plot the frequency distribution of DEN1, DEN2, DEN3 and DEN4 in one place. \n",
    "- It helps us to compare the distribution."
   ]
  },
  {
   "cell_type": "code",
   "execution_count": null,
   "metadata": {},
   "outputs": [],
   "source": [
    "fig, ((ax1, ax2), (ax3, ax4)) = plt.subplots(nrows=2, ncols=2, sharex=True)\n",
    "# ax1 \n",
    "freq1 = ntFrequency(den1)\n",
    "ax1.bar(freq1.keys(), freq1.values())\n",
    "ax1.set_title(\"DEN1\")\n",
    "ax1.set_ylabel(\"Frequency\")\n",
    "\n",
    "# ax2 \n",
    "freq2 = ntFrequency(den2)\n",
    "ax2.bar(freq2.keys(), freq2.values())\n",
    "ax2.set_title(\"DEN2\")\n",
    "ax2.set_ylabel(\"Frequency\")\n",
    "\n",
    "# ax3\n",
    "freq3 = ntFrequency(den3)\n",
    "ax3.bar(freq3.keys(), freq3.values())\n",
    "ax3.set_title(\"DEN3\")\n",
    "ax3.set_xlabel(\"Bases\")\n",
    "ax3.set_ylabel(\"Frequency\")\n",
    "\n",
    "# ax4 \n",
    "freq4 = ntFrequency(den4)\n",
    "ax4.bar(freq4.keys(), freq4.values())\n",
    "ax4.set_title(\"DEN4\")\n",
    "ax4.set_xlabel(\"Bases\")\n",
    "ax4.set_ylabel(\"Frequency\")\n",
    "\n",
    "# layout\n",
    "plt.tight_layout()\n",
    "# plt.savefig('../output_figs/den_plot.png')\n",
    "plt.show() "
   ]
  },
  {
   "cell_type": "code",
   "execution_count": null,
   "metadata": {},
   "outputs": [],
   "source": [
    "# pie chart of den1\n",
    "plotNucleotideFrequency(den1, \"Nucleotide Frequency Distribution of DEN1\", kind='pie')"
   ]
  },
  {
   "cell_type": "code",
   "execution_count": null,
   "metadata": {},
   "outputs": [],
   "source": [
    "# pie chart of den2\n",
    "plotNucleotideFrequency(den2, \"Nucleotide Frequency Distribution of DEN2\", kind='pie')"
   ]
  },
  {
   "cell_type": "code",
   "execution_count": null,
   "metadata": {},
   "outputs": [],
   "source": [
    "# pie chart of den3\n",
    "plotNucleotideFrequency(den3, \"Nucleotide Frequency Distribution of DEN3\", kind='pie')"
   ]
  },
  {
   "cell_type": "code",
   "execution_count": null,
   "metadata": {},
   "outputs": [],
   "source": [
    "# pie chart of den4\n",
    "plotNucleotideFrequency(den4, \"Nucleotide Frequency Distribution of DEN4\", kind='pie')"
   ]
  },
  {
   "cell_type": "markdown",
   "metadata": {},
   "source": [
    "## Put it Together: Pie Charts\n",
    "- Plot the frequency distribution of DEN1, DEN2, DEN3 and DEN4 in one place using pie chart. \n",
    "- It helps us to compare the distribution."
   ]
  },
  {
   "cell_type": "code",
   "execution_count": null,
   "metadata": {},
   "outputs": [],
   "source": [
    "fig, ((ax1, ax2), (ax3, ax4)) = plt.subplots(nrows=2, ncols=2, sharex=True)\n",
    "# ax1 \n",
    "freq1 = ntFrequency(den1)\n",
    "ax1.pie(freq1.values(), labels=freq1.keys(), autopct='%1.1f%%', shadow=True)\n",
    "ax1.set_title(\"DEN1\")\n",
    "# ax2 \n",
    "freq2 = ntFrequency(den2)\n",
    "ax2.pie(freq2.values(), labels=freq2.keys(), autopct='%1.1f%%', shadow=True)\n",
    "ax2.set_title(\"DEN2\")\n",
    "\n",
    "# ax3\n",
    "freq3 = ntFrequency(den3)\n",
    "ax3.pie(freq3.values(), labels=freq3.keys(), autopct='%1.1f%%', shadow=True)\n",
    "ax3.set_title(\"DEN3\")\n",
    "\n",
    "# ax4 \n",
    "freq4 = ntFrequency(den4)\n",
    "ax4.pie(freq4.values(), labels=freq4.keys(), autopct='%1.1f%%', shadow=True)\n",
    "ax4.set_title(\"DEN4\")\n",
    "\n",
    "# layout\n",
    "plt.tight_layout()\n",
    "# plt.savefig('../output_figs/den_plot.png')\n",
    "plt.show() "
   ]
  },
  {
   "cell_type": "markdown",
   "metadata": {},
   "source": [
    "## GC Calculation\n",
    "- GC-content (or guanine-cytosine content) is the percentage of nitrogenous bases in a DNA or RNA molecule that are either guanine (G) or cytosine (C)\n",
    "- In polymerase chain reaction (PCR) experiments, the GC-content of short oligonucleotides known as primers is often used to predict their annealing temperature to the template DNA. \n",
    "- A higher GC-content level indicates a relatively higher melting temperature.\n",
    "- DNA with low GC-content is less stable than DNA with high GC-content"
   ]
  },
  {
   "cell_type": "code",
   "execution_count": null,
   "metadata": {},
   "outputs": [],
   "source": [
    "def calculateGC(seq):\n",
    "    \"\"\"\n",
    "    Take DNA sequence as input and calculate the GC content.\n",
    "    \"\"\"\n",
    "    no_of_g = seq.count(\"G\")\n",
    "    no_of_c = seq.count(\"C\")\n",
    "    total = no_of_g + no_of_c\n",
    "    gc = round(total/len(seq) * 100, 2)\n",
    "    return gc"
   ]
  },
  {
   "cell_type": "code",
   "execution_count": null,
   "metadata": {},
   "outputs": [],
   "source": [
    "print(\"GC Content of DEN1:\", calculateGC(den1))\n",
    "print(\"GC Content of DEN2:\", calculateGC(den2))\n",
    "print(\"GC Content of DEN3:\", calculateGC(den3))\n",
    "print(\"GC Content of DEN4:\", calculateGC(den4))"
   ]
  },
  {
   "cell_type": "markdown",
   "metadata": {},
   "source": [
    "### Narrative\n",
    "- DEN4 is the most stable than DEN3 \n",
    "- DEN1 is the most stable than DEN2 "
   ]
  },
  {
   "cell_type": "code",
   "execution_count": null,
   "metadata": {},
   "outputs": [],
   "source": [
    "def calculateAT(seq):\n",
    "    \"\"\"Take DNA sequence as input and calculate the AT content.\"\"\"\n",
    "    no_of_a = seq.count(\"A\")\n",
    "    no_of_t = seq.count(\"T\")\n",
    "    total = no_of_a + no_of_t\n",
    "    at = round(total/len(seq) * 100, 2)\n",
    "    return at\n"
   ]
  },
  {
   "cell_type": "code",
   "execution_count": null,
   "metadata": {},
   "outputs": [],
   "source": [
    "print(\"AT Content of DEN1:\", calculateAT(den1))\n",
    "print(\"AT Content of DEN2:\", calculateAT(den2))\n",
    "print(\"AT Content of DEN3:\", calculateAT(den3))\n",
    "print(\"AT Content of DEN4:\", calculateAT(den4))"
   ]
  },
  {
   "cell_type": "markdown",
   "metadata": {},
   "source": [
    "## Sliding Window Analysis of GC"
   ]
  },
  {
   "cell_type": "code",
   "execution_count": null,
   "metadata": {},
   "outputs": [],
   "source": [
    "def subSeqGC(seq, window=300):\n",
    "    \"\"\"Returns sub-sequence GC distribution\"\"\"\n",
    "    res = [] \n",
    "    for i in range(0, len(seq)-window+1, window):\n",
    "        subseq = seq[i:i+window]\n",
    "        gc = calculateGC(subseq)\n",
    "        res.append(gc)\n",
    "    return res"
   ]
  },
  {
   "cell_type": "code",
   "execution_count": null,
   "metadata": {},
   "outputs": [],
   "source": [
    "gc1 = subSeqGC(den1, window=300)\n",
    "gc2 = subSeqGC(den2, window=300)\n",
    "gc3 = subSeqGC(den3, window=300)\n",
    "gc4 = subSeqGC(den4, window=300)"
   ]
  },
  {
   "cell_type": "code",
   "execution_count": null,
   "metadata": {},
   "outputs": [],
   "source": [
    "def plotGCDistribution(seq, title=\"GC Distribution of Sub-sequence\", xlab=\"Ranges\", ylab=\"% GC\"):\n",
    "    \"\"\"Plots the GC content along a sequence using a sliding window\"\"\"\n",
    "    gc = subSeqGC(seq, 10000)\n",
    "    sns.lineplot(range(len(gc)), sorted(gc))\n",
    "    plt.title(title)\n",
    "    plt.xlabel(xlab)\n",
    "    plt.ylabel(ylab)\n",
    "    plt.tight_layout()\n",
    "    plt.show()"
   ]
  },
  {
   "cell_type": "code",
   "execution_count": null,
   "metadata": {},
   "outputs": [],
   "source": [
    "fig, ((ax1, ax2), (ax3, ax4)) = plt.subplots(nrows=2, ncols=2, sharex=True)\n",
    "# ax1 \n",
    "gc1 = subSeqGC(den1, 300)\n",
    "ax1.plot(range(len(gc1)), gc1)\n",
    "ax1.set_title(\"DEN1\")\n",
    "ax1.set_ylabel(\"% GC\")\n",
    "\n",
    "# ax2 \n",
    "gc2 = subSeqGC(den2, 300)\n",
    "ax2.plot(range(len(gc2)), gc2)\n",
    "ax2.set_title(\"DEN2\")\n",
    "ax2.set_ylabel(\"% GC\")\n",
    "\n",
    "# ax3\n",
    "gc3 = subSeqGC(den3, 300)\n",
    "ax3.plot(range(len(gc3)), gc3)\n",
    "ax3.set_title(\"DEN3\")\n",
    "ax3.set_xlabel(\"Base-pair Position\")\n",
    "ax3.set_ylabel(\"% GC\")\n",
    "\n",
    "# ax4 \n",
    "gc4 = subSeqGC(den4, 300)\n",
    "ax4.plot(range(len(gc4)), gc4)\n",
    "ax4.set_title(\"DEN4\")\n",
    "ax4.set_xlabel(\"Base-pair Position\")\n",
    "ax4.set_ylabel(\"% GC\")\n",
    "\n",
    "# layout\n",
    "plt.tight_layout()\n",
    "# plt.savefig('../output_figs/den_plot.png')\n",
    "plt.show() "
   ]
  },
  {
   "cell_type": "markdown",
   "metadata": {},
   "source": [
    "## Sliding Window Analysis of AT"
   ]
  },
  {
   "cell_type": "code",
   "execution_count": null,
   "metadata": {},
   "outputs": [],
   "source": [
    "def subSeqAT(seq, window=1000):\n",
    "    \"\"\"Returns sub-sequence GC distribution\"\"\"\n",
    "    res = []\n",
    "    for i in range(0, len(seq)-window+1, window):\n",
    "        subseq = seq[i:i+window]\n",
    "        gc = calculateAT(subseq)\n",
    "        res.append(gc)\n",
    "    return res"
   ]
  },
  {
   "cell_type": "code",
   "execution_count": null,
   "metadata": {},
   "outputs": [],
   "source": [
    "at1 = subSeqAT(den1, window=300)\n",
    "at2 = subSeqAT(den2, window=300)\n",
    "at3 = subSeqAT(den3, window=300)\n",
    "at = subSeqAT(den4, window=300)"
   ]
  },
  {
   "cell_type": "code",
   "execution_count": null,
   "metadata": {},
   "outputs": [],
   "source": [
    "fig, ((ax1, ax2), (ax3, ax4)) = plt.subplots(nrows=2, ncols=2, sharex=True)\n",
    "# ax1 \n",
    "at1 = subSeqAT(den1, 300)\n",
    "ax1.plot(range(len(at1)), at1)\n",
    "ax1.set_title(\"DEN1\")\n",
    "ax1.set_ylabel(\"% AT\")\n",
    "\n",
    "# ax2 \n",
    "at2 = subSeqAT(den2, 300)\n",
    "ax2.plot(range(len(at2)), at2)\n",
    "ax2.set_title(\"DEN2\")\n",
    "ax2.set_ylabel(\"% AT\")\n",
    "\n",
    "# ax3\n",
    "at3 = subSeqAT(den3, 300)\n",
    "ax3.plot(range(len(at3)), at3)\n",
    "ax3.set_title(\"DEN3\")\n",
    "ax3.set_xlabel(\"Base-pair Position\")\n",
    "ax3.set_ylabel(\"% AT\")\n",
    "\n",
    "# ax4 \n",
    "at4 = subSeqAT(den4, 300)\n",
    "ax4.plot(range(len(at4)), at4)\n",
    "ax4.set_title(\"DEN4\")\n",
    "ax4.set_xlabel(\"Base-pair Position\")\n",
    "ax4.set_ylabel(\"% AT\")\n",
    "\n",
    "# layout\n",
    "plt.tight_layout()\n",
    "# plt.savefig('../output_figs/den_plot.png')\n",
    "plt.show() "
   ]
  },
  {
   "cell_type": "markdown",
   "metadata": {},
   "source": [
    "## K-mer Analysis "
   ]
  },
  {
   "cell_type": "code",
   "execution_count": null,
   "metadata": {},
   "outputs": [],
   "source": [
    "def buildKmers(sequence, ksize):\n",
    "    \"\"\"Returns k-mers on the basis of ksize.\"\"\"\n",
    "    kmers = []\n",
    "    n_kmers = len(sequence) - ksize + 1\n",
    "    for i in range(n_kmers):\n",
    "        kmer = sequence[i:i + ksize]\n",
    "        kmers.append(kmer)\n",
    "    return kmers"
   ]
  },
  {
   "cell_type": "code",
   "execution_count": null,
   "metadata": {},
   "outputs": [],
   "source": [
    "# build dimers \n",
    "km1 = buildKmers(den1, 2)\n",
    "km2 = buildKmers(den2, 2)\n",
    "km3 = buildKmers(den3, 2)\n",
    "km4 = buildKmers(den4, 2)"
   ]
  },
  {
   "cell_type": "code",
   "execution_count": null,
   "metadata": {},
   "outputs": [],
   "source": [
    "# dimer frequency\n",
    "def kmerFrequency(seq):\n",
    "    \"\"\"Returns frequencies of kmers\"\"\"\n",
    "    counts = Counter(seq)\n",
    "    return counts"
   ]
  },
  {
   "cell_type": "code",
   "execution_count": null,
   "metadata": {},
   "outputs": [],
   "source": [
    "print(\"Dimer Frequency of DEN1:\\n\", kmerFrequency(km1))\n",
    "print(\"Dimer Frequency of DEN2:\\n\", kmerFrequency(km2))\n",
    "print(\"Dimer Frequency of DEN3:\\n\", kmerFrequency(km3))\n",
    "print(\"Dimer Frequency of DEN4:\\n\", kmerFrequency(km4))"
   ]
  },
  {
   "cell_type": "markdown",
   "metadata": {},
   "source": [
    "## Plotting K-mer Frequency Distribution"
   ]
  },
  {
   "cell_type": "code",
   "execution_count": null,
   "metadata": {},
   "outputs": [],
   "source": [
    "def plotKmerFrequency(seq, title=False, xlab='Dimer', ylab='Frequency', kind=None):\n",
    "    \"\"\"Plots the kmers frequency\"\"\"\n",
    "    freq = kmerFrequency(seq)\n",
    "    df = pd.DataFrame(freq.items(), columns = ['letters', 'frequency'])\n",
    "    if kind == 'bar':\n",
    "        sns.barplot(x='letters', y='frequency', data=df)\n",
    "        plt.title(title)\n",
    "        plt.xlabel(xlab)\n",
    "        plt.ylabel(ylab)\n",
    "        plt.tight_layout()\n",
    "        plt.show()\n",
    "    elif kind == 'pie':\n",
    "        plt.pie(freq.values(), labels=freq.keys(), autopct='%1.1f%%', shadow=True)\n",
    "        plt.tight_layout()\n",
    "        plt.show()\n",
    "    else:\n",
    "        print(\"Please select your visualization type either bar or pie chart!\")\n"
   ]
  },
  {
   "cell_type": "code",
   "execution_count": null,
   "metadata": {},
   "outputs": [],
   "source": [
    "# dimer frequency of den1\n",
    "plotKmerFrequency(km1, \"Dimer Frequency of DEN1\", kind='bar')"
   ]
  },
  {
   "cell_type": "code",
   "execution_count": null,
   "metadata": {},
   "outputs": [],
   "source": [
    "# dimer frequency of den2\n",
    "plotKmerFrequency(km2, \"Dimer Frequency of DEN2\", kind='bar')"
   ]
  },
  {
   "cell_type": "code",
   "execution_count": null,
   "metadata": {},
   "outputs": [],
   "source": [
    "# dimer frequency of den3\n",
    "plotKmerFrequency(km3, \"Dimer Frequency of DEN3\", kind='bar')"
   ]
  },
  {
   "cell_type": "code",
   "execution_count": null,
   "metadata": {},
   "outputs": [],
   "source": [
    "# dimer frequency of den4\n",
    "plotKmerFrequency(km4, \"Dimer Frequency of DEN4\", kind='bar')"
   ]
  },
  {
   "cell_type": "code",
   "execution_count": null,
   "metadata": {},
   "outputs": [],
   "source": [
    "# k-mer frequency of den1 using pie chart\n",
    "plotKmerFrequency(km1, kind='pie')"
   ]
  },
  {
   "cell_type": "code",
   "execution_count": null,
   "metadata": {},
   "outputs": [],
   "source": [
    "# k-mer frequency of den2 using pie chart\n",
    "plotKmerFrequency(km2,kind='pie')"
   ]
  },
  {
   "cell_type": "code",
   "execution_count": null,
   "metadata": {},
   "outputs": [],
   "source": [
    "# k-mer frequency of den3 using pie chart\n",
    "plotKmerFrequency(km3,kind='pie')"
   ]
  },
  {
   "cell_type": "code",
   "execution_count": null,
   "metadata": {},
   "outputs": [],
   "source": [
    "# k-mer frequency of den4 using pie chart\n",
    "plotKmerFrequency(km4,kind='pie')"
   ]
  },
  {
   "cell_type": "markdown",
   "metadata": {},
   "source": [
    "## K-mer Frequency Distribution Together "
   ]
  },
  {
   "cell_type": "code",
   "execution_count": null,
   "metadata": {},
   "outputs": [],
   "source": [
    "fig, ((ax1, ax2), (ax3, ax4)) = plt.subplots(nrows=2, ncols=2, sharex=True)\n",
    "\n",
    "# ax1 \n",
    "freq1 = kmerFrequency(km1)\n",
    "ax1.bar(freq1.keys(), freq1.values())\n",
    "ax1.set_title(\"DEN1\")\n",
    "ax1.set_ylabel(\"Frequency\")\n",
    "# ax2 \n",
    "freq2 = kmerFrequency(km2)\n",
    "ax2.bar(freq2.keys(), freq2.values())\n",
    "ax2.set_title(\"DEN2\")\n",
    "ax2.set_ylabel(\"Frequency\")\n",
    "\n",
    "# ax3\n",
    "freq3 = kmerFrequency(km3)\n",
    "ax3.bar(freq3.keys(), freq3.values())\n",
    "ax3.set_title(\"DEN3\")\n",
    "ax3.set_xlabel(\"Bases\")\n",
    "ax3.set_ylabel(\"Frequency\")\n",
    "\n",
    "# ax4 \n",
    "freq4 = kmerFrequency(km4)\n",
    "ax4.bar(freq4.keys(), freq4.values())\n",
    "ax4.set_title(\"DEN4\")\n",
    "ax4.set_xlabel(\"Bases\")\n",
    "ax4.set_ylabel(\"Frequency\")\n",
    "\n",
    "# layout\n",
    "plt.tight_layout()\n",
    "# plt.savefig('../output_figs/den_plot.png')\n",
    "plt.show() "
   ]
  },
  {
   "cell_type": "markdown",
   "metadata": {},
   "source": [
    "## Hamming Distance \n",
    "- It shows how many places 2 strings differ\n",
    "- Hamming distance between two strings of equal length is the number of positions at which the corresponding symbols are different. \n",
    "- In other words, it measures the minimum number of substitutions required to change one string into the other, or the minimum number of errors that could have transformed one string into the other\n",
    "- It is used for error detection or error correction\n",
    "- It is used to quantify the similarity of DNA sequences\n",
    "- For checking the edit distance\n",
    "    - edit distance is a way of quantifying how dissimilar two strings (e.g., words) are to one another by counting the minimum number of operations required to transform one string into the other. \n",
    "    - eg; Levenshtein distance"
   ]
  },
  {
   "cell_type": "code",
   "execution_count": null,
   "metadata": {},
   "outputs": [],
   "source": [
    "# using python \n",
    "def hamming_distance(seq1, seq2): \n",
    "    \"\"\"Returns hamming distance between 2 sequences\"\"\"\n",
    "    return len([(x,y) for x, y in zip(seq1, seq2) if x != y])"
   ]
  },
  {
   "cell_type": "code",
   "execution_count": null,
   "metadata": {},
   "outputs": [],
   "source": [
    "print(\"Hamming Distance of DEN1 and DEN2:\", hamming_distance(den1[1:200], den2[1:200]))\n",
    "print(\"Hamming Distance of DEN1 and DEN3:\", hamming_distance(den1[1:200], den3[1:200]))\n",
    "print(\"Hamming Distance of DEN1 and DEN4:\", hamming_distance(den1[1:200], den4[1:200]))"
   ]
  },
  {
   "cell_type": "code",
   "execution_count": null,
   "metadata": {},
   "outputs": [],
   "source": [
    "print(\"Hamming Distance of DEN2 and DEN3:\", hamming_distance(den2[1:200], den3[1:200]))\n",
    "print(\"Hamming Distance of DEN2 and DEN4:\", hamming_distance(den2[1:200], den4[1:200]))\n",
    "print(\"Hamming Distance of DEN3 and DEN4:\", hamming_distance(den3[1:200], den4[1:200]))"
   ]
  },
  {
   "cell_type": "code",
   "execution_count": null,
   "metadata": {},
   "outputs": [],
   "source": [
    "# using scikit-bio library\n",
    "def calculateHammingDistance(seq1, seq2):\n",
    "    \"\"\"Returns hamming distance between two equal length sequences\"\"\"\n",
    "    seq1 = Sequence(seq1)\n",
    "    seq2 = Sequence(seq2)\n",
    "    result = hamming(seq1, seq2)\n",
    "    return result"
   ]
  },
  {
   "cell_type": "code",
   "execution_count": null,
   "metadata": {},
   "outputs": [],
   "source": [
    "print(\"Hamming Distance of DEN1 and DEN2:\", round(calculateHammingDistance(den1[1:200], den2[1:200]), 2))\n",
    "print(\"Hamming Distance of DEN1 and DEN3:\", round(calculateHammingDistance(den1[1:200], den3[1:200]), 2))\n",
    "print(\"Hamming Distance of DEN1 and DEN4:\", round(calculateHammingDistance(den1[1:200], den4[1:200]), 2))"
   ]
  },
  {
   "cell_type": "code",
   "execution_count": null,
   "metadata": {},
   "outputs": [],
   "source": [
    "print(\"Hamming Distance of DEN2 and DEN3:\", round(calculateHammingDistance(den2[1:200], den3[1:200]), 2))\n",
    "print(\"Hamming Distance of DEN2 and DEN4:\", round(calculateHammingDistance(den2[1:200], den4[1:200]), 2))\n",
    "print(\"Hamming Distance of DEN3 and DEN4:\", round(calculateHammingDistance(den3[1:200], den4[1:200]), 2))"
   ]
  },
  {
   "cell_type": "markdown",
   "metadata": {},
   "source": [
    "## Dot Plot \n",
    "- A dot plot is a graphical method that allows the comparison of two biological sequences and identify regions of close similarity between them.\n",
    "- Simplest method - put a dot wherever sequences are identical\n",
    "- Dot plots compare two sequences by organizing one sequence on the x-axis, and another on the y-axis, of a plot.\n",
    "- When the residues of both sequences match at the same location on the plot, a dot is drawn at the corresponding position\n",
    "\n",
    "### Usefulness \n",
    "- Dot plots can also be used to visually inspect sequences for\n",
    "    - direct or inverted repeats\n",
    "    - regions with low sequence complexity.\n",
    "    - Similar regions\n",
    "    - Repeated sequences\n",
    "    - Sequence rearrangements\n",
    "    - RNA structures\n",
    "    - Gene order"
   ]
  },
  {
   "cell_type": "markdown",
   "metadata": {},
   "source": [
    "## Dot Plot: for DNA Sequence "
   ]
  },
  {
   "cell_type": "code",
   "execution_count": null,
   "metadata": {},
   "outputs": [],
   "source": [
    "\n",
    "def __delta(x,y):\n",
    "    return 0 if x == y else 1\n",
    "\n",
    "def __M(seq1,seq2,i,j,k):\n",
    "    return sum(__delta(x,y) for x,y in zip(seq1[i:i+k],seq2[j:j+k]))\n",
    "\n",
    "def __makeMatrix(seq1,seq2,k):\n",
    "    n = len(seq1)\n",
    "    m = len(seq2)\n",
    "    return [[__M(seq1,seq2,i,j,k) for j in range(m-k+1)] for i in range(n-k+1)]\n",
    "\n",
    "\n",
    "def __plotMatrix(__M,t, seq1, seq2, nonblank = chr(0x25A0), blank = ' '):\n",
    "    print(' |' + seq2)\n",
    "    print('-'*(2 + len(seq2)))\n",
    "    for label,row in zip(seq1,M):\n",
    "        line = ''.join(nonblank if s < t else blank for s in row)\n",
    "        print(label + '|' + line)\n",
    "\n",
    "def dotPlot(seq1,seq2):\n",
    "    \"\"\"Create a dotplot for checking sequence similarity\"\"\"\n",
    "    plt.imshow(np.array(__makeMatrix(seq1,seq2,1)), cmap='viridis', interpolation='nearest', aspect='auto')\n",
    "    plt.colorbar()\n",
    "    plt.clim(-1, 1)\n",
    "    # on x-axis list all sequences of seq 2\n",
    "    xt=plt.xticks(np.arange(len(list(seq2))),list(seq2))\n",
    "    # on y-axis list all sequences of seq 1\n",
    "    yt=plt.yticks(np.arange(len(list(seq1))),list(seq1))\n",
    "    plt.show()\n"
   ]
  },
  {
   "cell_type": "code",
   "execution_count": null,
   "metadata": {},
   "outputs": [],
   "source": [
    "# 20x20 matrix of den1 and den2 \n",
    "dotPlot(den1[1:21], den2[1:21])"
   ]
  },
  {
   "cell_type": "code",
   "execution_count": null,
   "metadata": {},
   "outputs": [],
   "source": [
    "# 20x20 matrix of den1 and den3 \n",
    "dotPlot(den1[20:41], den3[20:41])"
   ]
  },
  {
   "cell_type": "code",
   "execution_count": null,
   "metadata": {},
   "outputs": [],
   "source": [
    "# 20x20 matrix of den1 and den4\n",
    "dotPlot(den1[40:61], den4[40:61])"
   ]
  },
  {
   "cell_type": "markdown",
   "metadata": {},
   "source": [
    "## Nucleotide Density"
   ]
  },
  {
   "cell_type": "code",
   "execution_count": null,
   "metadata": {},
   "outputs": [],
   "source": [
    "def __ntDensityPlot(xvar,ydict,xlab,ylab):\n",
    "    \"\"\"Makes a scatterplot of y-variable(s) against an x-variable\"\"\"\n",
    "    yvarnames = []\n",
    "    for yvar in ydict:\n",
    "        yvarnames.append(yvar)\n",
    "        sns.lineplot(xvar,ydict[yvar])\n",
    "    plt.xlabel(xlab)\n",
    "    plt.ylabel(ylab)\n",
    "    plt.legend(yvarnames, loc=\"upper right\")\n",
    "    plt.show()"
   ]
  },
  {
   "cell_type": "code",
   "execution_count": null,
   "metadata": {},
   "outputs": [],
   "source": [
    "def ntDensityOne(seq,windowsize,verbose=False,jumpsize=1000,makePlot=True):\n",
    "    \"\"\"Plots the base frequency along a sequence using a sliding window\"\"\"\n",
    "    length = len(seq)\n",
    "    # make a dictionary to contain four empty lists\n",
    "    freqs = { \"A\": [], \"T\": [], \"G\": [], \"C\": [] }\n",
    "    myset = (\"A\", \"C\", \"T\", \"G\")\n",
    "    midpoints = []\n",
    "    # Move the window by jumpsize bp at a time.\n",
    "    for i in range(0,length-windowsize+1,jumpsize):\n",
    "        subseq = seq[i:i+windowsize]\n",
    "        if verbose:\n",
    "            start = i\n",
    "            end = i+windowsize\n",
    "            print(\"start %d end %d subseq is %s length %d windowsize %d\" % (start,end,subseq,length,windowsize))\n",
    "        assert len(subseq)==windowsize, \"ERROR: ntdensity2: length of subseq is not windowsize\"\n",
    "        for letter in myset:\n",
    "            num = subseq.count(letter)\n",
    "            pc = 100 * num/windowsize\n",
    "            freqs[letter].append(pc)\n",
    "        # Find the mid-point of the window:\n",
    "        # For example, if the window is from i=1000 to i=11000,\n",
    "        # midpoint = 12000/2 = 6000\n",
    "        midpoint = (i + i + windowsize)/2\n",
    "        midpoints.append(midpoint)\n",
    "    if makePlot:\n",
    "        # Call the plotting function\n",
    "        midpoints2 = [x/1000 for x in midpoints] # list comprehension\n",
    "        __ntDensityPlot(midpoints2,freqs,'Base-Pair Position (kb)','% of Nucleotide') # Convert to kb for plotting\n"
   ]
  },
  {
   "cell_type": "code",
   "execution_count": null,
   "metadata": {},
   "outputs": [],
   "source": [
    "# nucleotide density of den1 \n",
    "ntDensityOne(den1, windowsize=2000)"
   ]
  },
  {
   "cell_type": "code",
   "execution_count": null,
   "metadata": {},
   "outputs": [],
   "source": [
    "# nucleotide density of den2 \n",
    "ntDensityOne(den2, windowsize=2000)"
   ]
  },
  {
   "cell_type": "code",
   "execution_count": null,
   "metadata": {},
   "outputs": [],
   "source": [
    "# nucleotide density of den3 \n",
    "ntDensityOne(den3, windowsize=2000)"
   ]
  },
  {
   "cell_type": "code",
   "execution_count": null,
   "metadata": {},
   "outputs": [],
   "source": [
    "# nucleotide density of den4 \n",
    "ntDensityOne(den4, windowsize=2000)"
   ]
  },
  {
   "cell_type": "markdown",
   "metadata": {},
   "source": [
    "## Dimer Density"
   ]
  },
  {
   "cell_type": "code",
   "execution_count": null,
   "metadata": {},
   "outputs": [],
   "source": [
    "def ntDensityTwo(seq,windowsize,verbose=False,jumpsize=1000,makePlot=True):\n",
    "    \"\"\"Plots the G+C content along a sequence using a sliding window\"\"\"\n",
    "    length = len(seq)\n",
    "    # Make a dictionary to contain two empty lists\n",
    "    freqs = { \"G+C\": [], \"A+T\": [] }\n",
    "    myset = (\"A+T\", \"G+C\")\n",
    "    # Note: instead of storing G+C, A+T in a hash, could just have coded G+C=0, A+T=1, and stored these values in arrays.\n",
    "    midpoints = []\n",
    "    # Move the window by jumpsize bp at a time.\n",
    "    # The first window we look at is from i=0 to i=windowsize.\n",
    "    # For example, if the sequence is 30000 bases long, windowsize=10000.\n",
    "    # In the first loop, we look at i=0 to i=10000.\n",
    "    # In the second loop, we look at i=1000 to i=11000. ...\n",
    "    # In the last loop, we look at i=29000 to i=30000.\n",
    "    # Note: for i = range(0,10) goes from i=0...9.\n",
    "    for i in range(0,length-windowsize+1,jumpsize):\n",
    "        subseq = seq[i:i+windowsize]\n",
    "        if verbose:\n",
    "            start = i\n",
    "            end = i+windowsize\n",
    "            print(\"start %d end %d subseq is %s length %d windowsize %d\" % (start,end,subseq,length,windowsize))\n",
    "        assert len(subseq)==windowsize, \"ERROR: ntdensity1: length of subseq is not windowsize\"\n",
    "        for dimer in myset:\n",
    "            letter1 = dimer[0:1]\n",
    "            letter2 = dimer[2:3]\n",
    "            num1 = subseq.count(letter1)\n",
    "            num2 = subseq.count(letter2)\n",
    "            num = num1 + num2\n",
    "            pc = (100 * num)/windowsize\n",
    "            freqs[dimer].append(pc)\n",
    "        # Find the mid-point of the window:\n",
    "        # For example, if the window is from i=1000 to i=11000,\n",
    "        # midpoint = 12000/2 = 6000\n",
    "        midpoint = (i + i + windowsize)/2\n",
    "        midpoints.append(midpoint)\n",
    "    if makePlot:\n",
    "        # Call the plotting function\n",
    "        midpoints2 = [x/1000 for x in midpoints] # list comprehension\n",
    "        __ntDensityPlot(midpoints2,freqs,'Base-Pair Position (kb)','%  of Nucleotide') # Convert to kb for plotting\n"
   ]
  },
  {
   "cell_type": "code",
   "execution_count": null,
   "metadata": {},
   "outputs": [],
   "source": [
    "# dimer density of den1 \n",
    "ntDensityTwo(den1, windowsize=2000)"
   ]
  },
  {
   "cell_type": "code",
   "execution_count": null,
   "metadata": {},
   "outputs": [],
   "source": [
    "# dimer density of den2 \n",
    "ntDensityTwo(den2, windowsize=2000)"
   ]
  },
  {
   "cell_type": "code",
   "execution_count": null,
   "metadata": {},
   "outputs": [],
   "source": [
    "# dimer density of den3 \n",
    "ntDensityTwo(den3, windowsize=2000)"
   ]
  },
  {
   "cell_type": "code",
   "execution_count": null,
   "metadata": {},
   "outputs": [],
   "source": [
    "# dimer density of den4 \n",
    "ntDensityTwo(den4, windowsize=2000)"
   ]
  },
  {
   "cell_type": "markdown",
   "metadata": {},
   "source": [
    "## Translation and Protein Sequence Analysis "
   ]
  },
  {
   "cell_type": "code",
   "execution_count": null,
   "metadata": {},
   "outputs": [],
   "source": [
    "# load sequence as biopython\n",
    "s1 = SeqIO.read('/kaggle/input/dengue-virus-4-complete-genomes/den1.fasta', \"fasta\")\n",
    "s2 = SeqIO.read('/kaggle/input/dengue-virus-4-complete-genomes/den2.fasta', \"fasta\")\n",
    "s3 = SeqIO.read('/kaggle/input/dengue-virus-4-complete-genomes/den3.fasta', \"fasta\")\n",
    "s4 = SeqIO.read('/kaggle/input/dengue-virus-4-complete-genomes/den4.fasta', \"fasta\")"
   ]
  },
  {
   "cell_type": "code",
   "execution_count": null,
   "metadata": {},
   "outputs": [],
   "source": [
    "# get sequence object \n",
    "seq1 = s1.seq \n",
    "seq2 = s2.seq \n",
    "seq3 = s3.seq \n",
    "seq4 = s4.seq "
   ]
  },
  {
   "cell_type": "code",
   "execution_count": null,
   "metadata": {},
   "outputs": [],
   "source": [
    "# translation\n",
    "prt1 = seq1.translate()\n",
    "prt2 = seq2.translate()\n",
    "prt3 = seq3.translate()\n",
    "prt4 = seq4.translate()"
   ]
  },
  {
   "cell_type": "code",
   "execution_count": null,
   "metadata": {},
   "outputs": [],
   "source": [
    "# examine few lines \n",
    "prt1[1:500]"
   ]
  },
  {
   "cell_type": "code",
   "execution_count": null,
   "metadata": {},
   "outputs": [],
   "source": [
    "# examine few lines \n",
    "prt2[1:500]"
   ]
  },
  {
   "cell_type": "code",
   "execution_count": null,
   "metadata": {},
   "outputs": [],
   "source": [
    "# examine few lines \n",
    "prt3[1:500]"
   ]
  },
  {
   "cell_type": "code",
   "execution_count": null,
   "metadata": {},
   "outputs": [],
   "source": [
    "# examine few lines \n",
    "prt4[1:500]"
   ]
  },
  {
   "cell_type": "markdown",
   "metadata": {},
   "source": [
    "## Protein Length"
   ]
  },
  {
   "cell_type": "code",
   "execution_count": null,
   "metadata": {},
   "outputs": [],
   "source": [
    "print(\"Protein Length of DEN1: \", len(prt1))\n",
    "print(\"Protein Length of DEN2: \", len(prt2))\n",
    "print(\"Protein Length of DEN3: \", len(prt3))\n",
    "print(\"Protein Length of DEN4: \", len(prt4))"
   ]
  },
  {
   "cell_type": "markdown",
   "metadata": {},
   "source": [
    "## Protein Frequency "
   ]
  },
  {
   "cell_type": "code",
   "execution_count": null,
   "metadata": {},
   "outputs": [],
   "source": [
    "def proteinFrequency(seq):\n",
    "    \"\"\"Count the frequencies of each protein in sequence including every letter\"\"\"\n",
    "    prt_freq = Counter(seq)\n",
    "    return prt_freq"
   ]
  },
  {
   "cell_type": "code",
   "execution_count": null,
   "metadata": {},
   "outputs": [],
   "source": [
    "print(\"Protein Frequency of DEN1:\\n \", proteinFrequency(prt1))\n",
    "print(\"Protein Frequency of DEN2:\\n \", proteinFrequency(prt2))\n",
    "print(\"Protein Frequency of DEN3:\\n \", proteinFrequency(prt3))\n",
    "print(\"Protein Frequency of DEN4:\\n \", proteinFrequency(prt4))"
   ]
  },
  {
   "cell_type": "markdown",
   "metadata": {},
   "source": [
    "## Most Common Amino Acids"
   ]
  },
  {
   "cell_type": "code",
   "execution_count": null,
   "metadata": {},
   "outputs": [],
   "source": [
    "print(\"Most Common Amino Acids in DEN1:\\n \", Counter(prt1).most_common(10))\n",
    "print(\"Most Common Amino Acids in DEN2:\\n \", Counter(prt2).most_common(10))\n",
    "print(\"Most Common Amino Acids in DEN3:\\n \", Counter(prt3).most_common(10))\n",
    "print(\"Most Common Amino Acids in DEN4:\\n \", Counter(prt4).most_common(10))"
   ]
  },
  {
   "cell_type": "markdown",
   "metadata": {},
   "source": [
    "## Plotting Protein Frequency Distribution"
   ]
  },
  {
   "cell_type": "code",
   "execution_count": null,
   "metadata": {},
   "outputs": [],
   "source": [
    "def plotProteinFrequency(seq, title=False, xlab=\"Proteins\",ylab=\"Frequency\", kind=None):\n",
    "    \"\"\"Makes a scatterplot of y-variable(s) against an x-variable\"\"\"\n",
    "    if kind == 'bar':\n",
    "        freq = Counter(seq)\n",
    "        df = pd.DataFrame(freq.items(), columns = ['letters', 'frequency'])\n",
    "        sns.barplot(x='letters', y='frequency', data=df)\n",
    "        plt.title(title,  fontsize=14)\n",
    "        plt.xlabel(xlab,  fontsize=14)\n",
    "        plt.ylabel(ylab,  fontsize=14)\n",
    "        plt.tight_layout()\n",
    "        plt.show()\n",
    "    elif kind == 'pie':\n",
    "        freq = Counter(seq)\n",
    "        plt.pie(freq.values(), labels=freq.keys(), autopct='%1.1f%%', shadow=True)\n",
    "        plt.tight_layout()\n",
    "        plt.show()\n",
    "    else:\n",
    "        print(\"Please select your visualization type either bar or pie chart!\")\n"
   ]
  },
  {
   "cell_type": "code",
   "execution_count": null,
   "metadata": {},
   "outputs": [],
   "source": [
    "# protein frequency distribution of den1 \n",
    "plotProteinFrequency(prt1, \"DEN1 Protein Frequency Distribution\", kind='bar')"
   ]
  },
  {
   "cell_type": "code",
   "execution_count": null,
   "metadata": {},
   "outputs": [],
   "source": [
    "# protein frequency distribution of den2\n",
    "plotProteinFrequency(prt2, \"DEN2 Protein Frequency Distribution\", kind='bar')"
   ]
  },
  {
   "cell_type": "code",
   "execution_count": null,
   "metadata": {},
   "outputs": [],
   "source": [
    "# protein frequency distribution of den3\n",
    "plotProteinFrequency(prt3, \"DEN3 Protein Frequency Distribution\", kind='bar')"
   ]
  },
  {
   "cell_type": "code",
   "execution_count": null,
   "metadata": {},
   "outputs": [],
   "source": [
    "# protein frequency distribution of den4\n",
    "plotProteinFrequency(prt4, \"DEN4 Protein Frequency Distribution\", kind='bar')"
   ]
  },
  {
   "cell_type": "markdown",
   "metadata": {},
   "source": [
    "## Dot Plot: for Protein Sequence "
   ]
  },
  {
   "cell_type": "code",
   "execution_count": null,
   "metadata": {},
   "outputs": [],
   "source": [
    "# dotplot of den1 protein and den2 \n",
    "dotPlot(prt1[1:21], prt1[1:21])"
   ]
  },
  {
   "cell_type": "code",
   "execution_count": null,
   "metadata": {},
   "outputs": [],
   "source": [
    "# dotplot of den1 protein and den3\n",
    "dotPlot(prt1[1:21], prt3[1:21])"
   ]
  },
  {
   "cell_type": "code",
   "execution_count": null,
   "metadata": {},
   "outputs": [],
   "source": [
    "# dotplot of den1 protein and den3\n",
    "dotPlot(prt1[1:21], prt4[1:21])"
   ]
  },
  {
   "cell_type": "markdown",
   "metadata": {},
   "source": [
    "## Sequence Alignments \n",
    "- Global alignment: finds the best concordance/agreement betwenn all characters in two sequences\n",
    "- Local Alignment: finds just the subsequences that align the best"
   ]
  },
  {
   "cell_type": "code",
   "execution_count": null,
   "metadata": {},
   "outputs": [],
   "source": [
    "# import sequence alignment library\n",
    "from Bio import pairwise2 \n",
    "from Bio.pairwise2 import format_alignment"
   ]
  },
  {
   "cell_type": "code",
   "execution_count": null,
   "metadata": {},
   "outputs": [],
   "source": [
    "# alignments \n",
    "alignments = pairwise2.align.globalxx(seq1, seq2)"
   ]
  },
  {
   "cell_type": "code",
   "execution_count": null,
   "metadata": {},
   "outputs": [],
   "source": [
    "# print alignments \n",
    "print(alignments)"
   ]
  },
  {
   "cell_type": "code",
   "execution_count": null,
   "metadata": {},
   "outputs": [],
   "source": [
    "# to see it weel \n",
    "print(format_alignment(*alignments[0]))"
   ]
  },
  {
   "cell_type": "code",
   "execution_count": null,
   "metadata": {},
   "outputs": [],
   "source": [
    "# to see 2nd part \n",
    "print(format_alignment(*alignments[1]))"
   ]
  },
  {
   "cell_type": "code",
   "execution_count": null,
   "metadata": {},
   "outputs": [],
   "source": [
    "# to see all alignments \n",
    "for a in alignments: \n",
    "    print(format_alignment(*a))"
   ]
  },
  {
   "cell_type": "code",
   "execution_count": null,
   "metadata": {},
   "outputs": [],
   "source": [
    "# get only the score for alignments \n",
    "alignment_scores = pairwise2.align.globalxx(seq1, seq2, one_alignment_only=True, score_only=True)\n",
    "alignment_scores"
   ]
  },
  {
   "cell_type": "code",
   "execution_count": null,
   "metadata": {},
   "outputs": [],
   "source": [
    "# check for the similarity \n",
    "alignment_scores/len(seq1) * 100"
   ]
  },
  {
   "cell_type": "markdown",
   "metadata": {},
   "source": [
    "## Similarity: DEN1, DEN2, DEN3 and DEN4"
   ]
  },
  {
   "cell_type": "code",
   "execution_count": null,
   "metadata": {},
   "outputs": [],
   "source": [
    "# sequence similarity dengue virus \n",
    "alignment_scores1 = pairwise2.align.globalxx(seq1, seq2, one_alignment_only=True, score_only=True)\n",
    "alignment_scores2 = pairwise2.align.globalxx(seq1, seq3, one_alignment_only=True, score_only=True)\n",
    "alignment_scores3 = pairwise2.align.globalxx(seq1, seq4, one_alignment_only=True, score_only=True)"
   ]
  },
  {
   "cell_type": "code",
   "execution_count": null,
   "metadata": {},
   "outputs": [],
   "source": [
    "print(\"Similarity between DEN1 and DEN2:\", alignment_scores1/len(seq1)* 100)\n",
    "print(\"Similarity between DEN1 and DEN3:\", alignment_scores1/len(seq1)* 100)\n",
    "print(\"Similarity between DEN1 and DEN4:\", alignment_scores1/len(seq1)* 100)"
   ]
  },
  {
   "cell_type": "code",
   "execution_count": null,
   "metadata": {},
   "outputs": [],
   "source": [
    "# sequence similarity dengue virus \n",
    "alignment_scores1 = pairwise2.align.globalxx(seq2, seq3, one_alignment_only=True, score_only=True)\n",
    "alignment_scores2 = pairwise2.align.globalxx(seq2, seq4, one_alignment_only=True, score_only=True)"
   ]
  },
  {
   "cell_type": "code",
   "execution_count": null,
   "metadata": {},
   "outputs": [],
   "source": [
    "print(\"Similarity between DEN2 and DEN3:\", alignment_scores1/len(seq2)* 100)\n",
    "print(\"Similarity between DEN2 and DEN4:\", alignment_scores1/len(seq2)* 100)\n"
   ]
  },
  {
   "cell_type": "markdown",
   "metadata": {},
   "source": [
    "## References \n",
    "\n",
    "## Nucleotide Sequence Analysis \n",
    "- https://www.mathworks.com/help/bioinfo/nucleotide-sequence-analysis.html\n",
    "- https://www.sciencedirect.com/topics/chemistry/nucleotide-sequence\n",
    "\n",
    "### Nucleotide Frequency\n",
    "- https://pubmed.ncbi.nlm.nih.gov/2720059/\n",
    "- https://www.sciencedirect.com/science/article/abs/pii/S002251931500140X\n",
    "\n",
    "### Importance of GC Content\n",
    "- https://www.sciencedirect.com/topics/biochemistry-genetics-and-molecular-biology/gc-content\n",
    "- https://molbiol-tools.ca/DNA_composition.htm\n",
    "\n",
    "## Sliding Window Analysis \n",
    "- https://a-little-book-of-r-for-bioinformatics.readthedocs.io/en/latest/src/chapter2.html\n",
    "    \n",
    "## K-mer Analysis\n",
    "- http://compbiolwiki.plos.org/wiki/K-mer    \n",
    "- https://sourmash.readthedocs.io/en/latest/kmers-and-minhash.html\n",
    "\n",
    "## Dot Plot \n",
    "- https://en.wikipedia.org/wiki/Dot_plot_(bioinformatics)\n",
    "- https://stackoverflow.com/questions/40822400/how-to-create-a-dotplot-of-two-dna-sequence-in-python\n",
    "\n",
    "## Nucleotide Density \n",
    "- https://www.mathworks.com/help/bioinfo/ref/ntdensity.html\n",
    "\n",
    "## Sequence Alignment \n",
    "- https://biopython.org/wiki/AlignIO\n",
    "\n",
    "## Phylogenetic Tree Analysis \n",
    "- https://www.khanacademy.org/science/high-school-biology/hs-evolution/hs-phylogeny/a/phylogenetic-trees\n",
    "- https://biopython.org/wiki/Phylo"
   ]
  }
 ],
 "metadata": {
  "kernelspec": {
   "display_name": "Python 3",
   "language": "python",
   "name": "python3"
  },
  "language_info": {
   "codemirror_mode": {
    "name": "ipython",
    "version": 3
   },
   "file_extension": ".py",
   "mimetype": "text/x-python",
   "name": "python",
   "nbconvert_exporter": "python",
   "pygments_lexer": "ipython3",
   "version": "3.8.3"
  },
  "latex_envs": {
   "LaTeX_envs_menu_present": true,
   "autoclose": false,
   "autocomplete": true,
   "bibliofile": "biblio.bib",
   "cite_by": "apalike",
   "current_citInitial": 1,
   "eqLabelWithNumbers": true,
   "eqNumInitial": 1,
   "hotkeys": {
    "equation": "Ctrl-E",
    "itemize": "Ctrl-I"
   },
   "labels_anchors": false,
   "latex_user_defs": false,
   "report_style_numbering": false,
   "user_envs_cfg": false
  }
 },
 "nbformat": 4,
 "nbformat_minor": 4
}
