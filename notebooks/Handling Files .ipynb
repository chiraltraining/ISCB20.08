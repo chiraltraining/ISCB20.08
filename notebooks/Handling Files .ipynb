{
 "cells": [
  {
   "cell_type": "code",
   "execution_count": 1,
   "metadata": {},
   "outputs": [],
   "source": [
    "from Bio import SeqIO"
   ]
  },
  {
   "cell_type": "code",
   "execution_count": 2,
   "metadata": {},
   "outputs": [
    {
     "name": "stdout",
     "output_type": "stream",
     "text": [
      ">CP005967.1 Haemophilus influenzae KR494, complete genome\r\n",
      "AACCGAAATTACAGTGCATGGACGCACAAAATCTGATGGTTATCGTGCTGATAGAATTAATTGGAAAAAA\r\n",
      "ATTGGTAAAGTCCGAGAGCGTTTATCCATTCCTGTTATTGCTAACGGAGAAATTTGGCATTGGCAAGATG\r\n",
      "GTCAAGATTGCTTATCTCAAACAGGTTGTCAGGATTTAATGGTGGGACGAGGTGCATTGAATATTCCGAA\r\n",
      "CTTAAGCCATGTTCTGAAATCAAATGCAGAAAAAATGCCTTGGAATGAGATTCAAAAAATCTTGCAAAAA\r\n",
      "TATGCGAATGTTGAAAATGAATATGGCAGCGGTTTTTACCATGTGGCACGAATTAAACAATGGTTACGTT\r\n",
      "ATTTGAATAAGGAATATGATGAGGCGAACCAAGAGTTTGATAAGATTAAGACTTGCCAAACTGCTGAAGA\r\n",
      "TTTGAAATTACGGTTAAATGATAAATAAAAAACCTGCTAATCAGCAGGTTTTCTTTTTCTAAATTATTTA\r\n",
      "AAAATTCACCGCACTTTTTAATTTTTTCAGTGCATTAGTTTCTAATTGACGAATACGTTCCGCAGATACA\r\n",
      "TTATATTTTGCTGCCAAGTCGTGCAATGTAGCTTTGTTATCATCTAACCAACGAGCTTTGATAATATCCT\r\n"
     ]
    }
   ],
   "source": [
    "!head ../data/Haemophilus_influenzae.fasta"
   ]
  },
  {
   "cell_type": "code",
   "execution_count": 3,
   "metadata": {},
   "outputs": [
    {
     "name": "stdout",
     "output_type": "stream",
     "text": [
      "ID: CP005967.1\n",
      "Name: CP005967.1\n",
      "Description: CP005967.1 Haemophilus influenzae KR494, complete genome\n",
      "Number of features: 0\n",
      "Seq('AACCGAAATTACAGTGCATGGACGCACAAAATCTGATGGTTATCGTGCTGATAG...CGC')\n"
     ]
    }
   ],
   "source": [
    "for record in SeqIO.parse(\"../data/Haemophilus_influenzae.fasta\", \"fasta\"): \n",
    "    print(record)"
   ]
  },
  {
   "cell_type": "code",
   "execution_count": 4,
   "metadata": {},
   "outputs": [
    {
     "name": "stdout",
     "output_type": "stream",
     "text": [
      "CP005967.1\n"
     ]
    }
   ],
   "source": [
    "for record in SeqIO.parse(\"../data/Haemophilus_influenzae.fasta\", \"fasta\"): \n",
    "    print(record.id)"
   ]
  },
  {
   "cell_type": "code",
   "execution_count": 5,
   "metadata": {},
   "outputs": [
    {
     "name": "stdout",
     "output_type": "stream",
     "text": [
      "CP005967.1\n"
     ]
    }
   ],
   "source": [
    "for record in SeqIO.parse(\"../data/Haemophilus_influenzae.fasta\", \"fasta\"): \n",
    "    print(record.name)"
   ]
  },
  {
   "cell_type": "code",
   "execution_count": 6,
   "metadata": {},
   "outputs": [
    {
     "name": "stdout",
     "output_type": "stream",
     "text": [
      "[]\n"
     ]
    }
   ],
   "source": [
    "for record in SeqIO.parse(\"../data/Haemophilus_influenzae.fasta\", \"fasta\"): \n",
    "    print(record.features)"
   ]
  },
  {
   "cell_type": "code",
   "execution_count": 8,
   "metadata": {},
   "outputs": [
    {
     "name": "stdout",
     "output_type": "stream",
     "text": [
      "AACCGAAATTACAGTGCATGGACGCACAAAATCTGATGGTTATCGTGCTGATAGAATTAATTGGAAAAAAATTGGTAAAGTCCGAGAGCGTTTATCCATTCCTGTTATTGCTAACGGAGAAATTTGGCATTGGCAAGATGGTCAAGATTGCTTATCTCAAACAGGTTGTCAGGATTTAATGGTGGGACGAGGTGCATTGA\n"
     ]
    }
   ],
   "source": [
    "for record in SeqIO.parse(\"../data/Haemophilus_influenzae.fasta\", \"fasta\"): \n",
    "    print(record.seq[:200])"
   ]
  },
  {
   "cell_type": "code",
   "execution_count": 9,
   "metadata": {},
   "outputs": [],
   "source": [
    "def readFASTA(inputfile): \n",
    "    \"\"\"Reads a FASTA file and returns it with special character removed\"\"\"\n",
    "    for record in SeqIO.parse(inputfile, \"fasta\"): \n",
    "        seq = record.seq\n",
    "    return seq "
   ]
  },
  {
   "cell_type": "code",
   "execution_count": 10,
   "metadata": {},
   "outputs": [],
   "source": [
    "s1 = readFASTA('../data/Haemophilus_influenzae.fasta')"
   ]
  },
  {
   "cell_type": "code",
   "execution_count": 17,
   "metadata": {
    "scrolled": false
   },
   "outputs": [
    {
     "name": "stdout",
     "output_type": "stream",
     "text": [
      "@SRR835775.1 1/1\r\n",
      "TAACCCTAACCCTAACCCTAACCCTAACCCTAACCCTAACCCTAACCCTAACCCTCACCCTAACCCTAACCCTAACCGTATCCGTCACCCTAACCCTAAC\r\n",
      "+\r\n",
      "???B1ADDD8??BB+C?B+:AA883CEE8?C3@DDD3)?D2;DC?8?=BAD=@C@(.6.6=A?=?@##################################\r\n",
      "@SRR835775.2 2/1\r\n",
      "TAACCCTAACCCTAACCCTAACCCTAACCCTAACCCTAACCCTAACCCTAACCCTACCCTAACCCTAACCCTAACCCTAACCCTAACCCTAACCCTAACC\r\n",
      "+\r\n",
      "CCCFFFFFGHHGHJJJJJIJGIIJJJJJJJIJIJJJJJFJJFGIIIIH=CBFCF=CCEG)=>EHB2@@DEC>;;?=;(=?BBD?59?BA###########\r\n",
      "@SRR835775.3 3/1\r\n",
      "TAGGGTTAGGGTTAGGGTTAGGGTTAGGGTTAGGGTTAGGGTTAGGGTTAGGGTTAGGGTTAGGGTTAGGGTTAGGGTTAGGGTTAGGGTTAGGGTTAGG\r\n"
     ]
    }
   ],
   "source": [
    "!head ../data/example.fastq"
   ]
  },
  {
   "cell_type": "code",
   "execution_count": 18,
   "metadata": {},
   "outputs": [
    {
     "data": {
      "text/plain": [
       "63"
      ]
     },
     "execution_count": 18,
     "metadata": {},
     "output_type": "execute_result"
    }
   ],
   "source": [
    "ord('?')"
   ]
  },
  {
   "cell_type": "code",
   "execution_count": 19,
   "metadata": {},
   "outputs": [
    {
     "data": {
      "text/plain": [
       "66"
      ]
     },
     "execution_count": 19,
     "metadata": {},
     "output_type": "execute_result"
    }
   ],
   "source": [
    "ord('B')"
   ]
  },
  {
   "cell_type": "code",
   "execution_count": 39,
   "metadata": {},
   "outputs": [],
   "source": [
    "def readFASTQ(inputfile): \n",
    "    \"\"\"Reads a FASTQ file and returns it with special character removed\"\"\"\n",
    "    for record in SeqIO.parse(inputfile, \"fastq\"): \n",
    "        seq = record.seq\n",
    "        qual = record.letter_annotations   \n",
    "    return seq, qual "
   ]
  },
  {
   "cell_type": "code",
   "execution_count": 40,
   "metadata": {},
   "outputs": [],
   "source": [
    "s, q  = readFASTQ('../data/example.fastq')"
   ]
  },
  {
   "cell_type": "code",
   "execution_count": 41,
   "metadata": {},
   "outputs": [
    {
     "data": {
      "text/plain": [
       "Seq('GTTGGCTGCCCCTGCAGGTCCCTGTCACCTCTCACATGTCCCTGCCTAATCTTG...TGC')"
      ]
     },
     "execution_count": 41,
     "metadata": {},
     "output_type": "execute_result"
    }
   ],
   "source": [
    "s2[:300]"
   ]
  },
  {
   "cell_type": "code",
   "execution_count": 43,
   "metadata": {},
   "outputs": [
    {
     "data": {
      "text/plain": [
       "{'phred_quality': [34,\n",
       "  31,\n",
       "  34,\n",
       "  37,\n",
       "  37,\n",
       "  37,\n",
       "  37,\n",
       "  37,\n",
       "  39,\n",
       "  39,\n",
       "  39,\n",
       "  39,\n",
       "  38,\n",
       "  39,\n",
       "  38,\n",
       "  38,\n",
       "  39,\n",
       "  40,\n",
       "  37,\n",
       "  40,\n",
       "  40,\n",
       "  41,\n",
       "  41,\n",
       "  41,\n",
       "  39,\n",
       "  41,\n",
       "  41,\n",
       "  41,\n",
       "  40,\n",
       "  38,\n",
       "  40,\n",
       "  40,\n",
       "  41,\n",
       "  40,\n",
       "  40,\n",
       "  40,\n",
       "  40,\n",
       "  40,\n",
       "  40,\n",
       "  41,\n",
       "  40,\n",
       "  41,\n",
       "  41,\n",
       "  41,\n",
       "  41,\n",
       "  41,\n",
       "  36,\n",
       "  33,\n",
       "  38,\n",
       "  40,\n",
       "  41,\n",
       "  41,\n",
       "  41,\n",
       "  41,\n",
       "  41,\n",
       "  38,\n",
       "  38,\n",
       "  41,\n",
       "  33,\n",
       "  37,\n",
       "  36,\n",
       "  37,\n",
       "  38,\n",
       "  39,\n",
       "  40,\n",
       "  41,\n",
       "  36,\n",
       "  38,\n",
       "  36,\n",
       "  36,\n",
       "  36,\n",
       "  39,\n",
       "  38,\n",
       "  36,\n",
       "  34,\n",
       "  33,\n",
       "  35,\n",
       "  37,\n",
       "  37,\n",
       "  37,\n",
       "  37,\n",
       "  36,\n",
       "  36,\n",
       "  36,\n",
       "  35,\n",
       "  35,\n",
       "  35,\n",
       "  35,\n",
       "  35,\n",
       "  34,\n",
       "  28,\n",
       "  33,\n",
       "  33,\n",
       "  35,\n",
       "  35,\n",
       "  33,\n",
       "  33,\n",
       "  29,\n",
       "  32,\n",
       "  35]}"
      ]
     },
     "execution_count": 43,
     "metadata": {},
     "output_type": "execute_result"
    }
   ],
   "source": [
    "q "
   ]
  },
  {
   "cell_type": "code",
   "execution_count": null,
   "metadata": {},
   "outputs": [],
   "source": []
  },
  {
   "cell_type": "code",
   "execution_count": 31,
   "metadata": {},
   "outputs": [
    {
     "data": {
      "text/plain": [
       "100"
      ]
     },
     "execution_count": 31,
     "metadata": {},
     "output_type": "execute_result"
    }
   ],
   "source": [
    "len(s2)"
   ]
  },
  {
   "cell_type": "code",
   "execution_count": 32,
   "metadata": {},
   "outputs": [],
   "source": [
    "for record in SeqIO.parse(\"../data/example.fastq\", \"fastq\"): \n",
    "    seq = record.seq "
   ]
  },
  {
   "cell_type": "code",
   "execution_count": 33,
   "metadata": {},
   "outputs": [
    {
     "data": {
      "text/plain": [
       "Seq('GTTGGCTGCCCCTGCAGGTCCCTGTCACCTCTCACATGTCCCTGCCTAATCTTG...TGC')"
      ]
     },
     "execution_count": 33,
     "metadata": {},
     "output_type": "execute_result"
    }
   ],
   "source": [
    "seq[:200]"
   ]
  },
  {
   "cell_type": "code",
   "execution_count": 37,
   "metadata": {},
   "outputs": [],
   "source": [
    "for record in SeqIO.parse(\"../data/example.fastq\", \"fastq\"): \n",
    "    qual = record.letter_annotations"
   ]
  },
  {
   "cell_type": "code",
   "execution_count": 38,
   "metadata": {},
   "outputs": [
    {
     "data": {
      "text/plain": [
       "{'phred_quality': [34,\n",
       "  31,\n",
       "  34,\n",
       "  37,\n",
       "  37,\n",
       "  37,\n",
       "  37,\n",
       "  37,\n",
       "  39,\n",
       "  39,\n",
       "  39,\n",
       "  39,\n",
       "  38,\n",
       "  39,\n",
       "  38,\n",
       "  38,\n",
       "  39,\n",
       "  40,\n",
       "  37,\n",
       "  40,\n",
       "  40,\n",
       "  41,\n",
       "  41,\n",
       "  41,\n",
       "  39,\n",
       "  41,\n",
       "  41,\n",
       "  41,\n",
       "  40,\n",
       "  38,\n",
       "  40,\n",
       "  40,\n",
       "  41,\n",
       "  40,\n",
       "  40,\n",
       "  40,\n",
       "  40,\n",
       "  40,\n",
       "  40,\n",
       "  41,\n",
       "  40,\n",
       "  41,\n",
       "  41,\n",
       "  41,\n",
       "  41,\n",
       "  41,\n",
       "  36,\n",
       "  33,\n",
       "  38,\n",
       "  40,\n",
       "  41,\n",
       "  41,\n",
       "  41,\n",
       "  41,\n",
       "  41,\n",
       "  38,\n",
       "  38,\n",
       "  41,\n",
       "  33,\n",
       "  37,\n",
       "  36,\n",
       "  37,\n",
       "  38,\n",
       "  39,\n",
       "  40,\n",
       "  41,\n",
       "  36,\n",
       "  38,\n",
       "  36,\n",
       "  36,\n",
       "  36,\n",
       "  39,\n",
       "  38,\n",
       "  36,\n",
       "  34,\n",
       "  33,\n",
       "  35,\n",
       "  37,\n",
       "  37,\n",
       "  37,\n",
       "  37,\n",
       "  36,\n",
       "  36,\n",
       "  36,\n",
       "  35,\n",
       "  35,\n",
       "  35,\n",
       "  35,\n",
       "  35,\n",
       "  34,\n",
       "  28,\n",
       "  33,\n",
       "  33,\n",
       "  35,\n",
       "  35,\n",
       "  33,\n",
       "  33,\n",
       "  29,\n",
       "  32,\n",
       "  35]}"
      ]
     },
     "execution_count": 38,
     "metadata": {},
     "output_type": "execute_result"
    }
   ],
   "source": [
    "seq "
   ]
  }
 ],
 "metadata": {
  "kernelspec": {
   "display_name": "Python 3",
   "language": "python",
   "name": "python3"
  },
  "language_info": {
   "codemirror_mode": {
    "name": "ipython",
    "version": 3
   },
   "file_extension": ".py",
   "mimetype": "text/x-python",
   "name": "python",
   "nbconvert_exporter": "python",
   "pygments_lexer": "ipython3",
   "version": "3.8.3"
  },
  "latex_envs": {
   "LaTeX_envs_menu_present": true,
   "autoclose": false,
   "autocomplete": true,
   "bibliofile": "biblio.bib",
   "cite_by": "apalike",
   "current_citInitial": 1,
   "eqLabelWithNumbers": true,
   "eqNumInitial": 1,
   "hotkeys": {
    "equation": "Ctrl-E",
    "itemize": "Ctrl-I"
   },
   "labels_anchors": false,
   "latex_user_defs": false,
   "report_style_numbering": false,
   "user_envs_cfg": false
  }
 },
 "nbformat": 4,
 "nbformat_minor": 4
}
