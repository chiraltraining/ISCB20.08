{
 "cells": [
  {
   "cell_type": "code",
   "execution_count": 10,
   "metadata": {},
   "outputs": [],
   "source": [
    "from biopandas.pdb import PandasPdb "
   ]
  },
  {
   "cell_type": "code",
   "execution_count": 11,
   "metadata": {},
   "outputs": [],
   "source": [
    "ppdb = PandasPdb() "
   ]
  },
  {
   "cell_type": "code",
   "execution_count": 12,
   "metadata": {},
   "outputs": [
    {
     "data": {
      "text/plain": [
       "<biopandas.pdb.pandas_pdb.PandasPdb at 0x7fd6fc3b3640>"
      ]
     },
     "execution_count": 12,
     "metadata": {},
     "output_type": "execute_result"
    }
   ],
   "source": [
    "# reading data \n",
    "ppdb.read_pdb('../data/3eiy.pdb')"
   ]
  },
  {
   "cell_type": "code",
   "execution_count": 13,
   "metadata": {},
   "outputs": [
    {
     "data": {
      "text/plain": [
       "<biopandas.pdb.pandas_pdb.PandasPdb at 0x7fd6fc3b3640>"
      ]
     },
     "execution_count": 13,
     "metadata": {},
     "output_type": "execute_result"
    }
   ],
   "source": [
    "# reading gz \n",
    "ppdb.read_pdb('../data/3eiy.pdb.gz')"
   ]
  },
  {
   "cell_type": "code",
   "execution_count": 14,
   "metadata": {},
   "outputs": [
    {
     "name": "stdout",
     "output_type": "stream",
     "text": [
      "HEADER    HYDROLASE                               17-SEP-08   3EIY              \r\n",
      "TITLE     CRYSTAL STRUCTURE OF INORGANIC PYROPHOSPHATASE FROM BURKHOLDERIA      \r\n",
      "TITLE    2 PSEUDOMALLEI WITH BOUND PYROPHOSPHATE                                \r\n",
      "COMPND    MOL_ID: 1;                                                            \r\n",
      "COMPND   2 MOLECULE: INORGANIC PYROPHOSPHATASE;                                 \r\n",
      "COMPND   3 CHAIN: A;                                                            \r\n",
      "COMPND   4 EC: 3.6.1.1;                                                         \r\n",
      "COMPND   5 ENGINEERED: YES                                                      \r\n",
      "SOURCE    MOL_ID: 1;                                                            \r\n",
      "SOURCE   2 ORGANISM_SCIENTIFIC: BURKHOLDERIA PSEUDOMALLEI 1710B;                \r\n"
     ]
    }
   ],
   "source": [
    "!head ../data/3eiy.pdb"
   ]
  },
  {
   "cell_type": "code",
   "execution_count": 15,
   "metadata": {},
   "outputs": [
    {
     "data": {
      "text/plain": [
       "'3eiy'"
      ]
     },
     "execution_count": 15,
     "metadata": {},
     "output_type": "execute_result"
    }
   ],
   "source": [
    "ppdb.code "
   ]
  },
  {
   "cell_type": "code",
   "execution_count": 16,
   "metadata": {},
   "outputs": [
    {
     "data": {
      "text/plain": [
       "'    HYDROLASE                               17-SEP-08   3EIY'"
      ]
     },
     "execution_count": 16,
     "metadata": {},
     "output_type": "execute_result"
    }
   ],
   "source": [
    "ppdb.header"
   ]
  },
  {
   "cell_type": "code",
   "execution_count": 17,
   "metadata": {},
   "outputs": [
    {
     "data": {
      "text/plain": [
       "'HEADER    HYDROLASE                               17-SEP-08   3EIY              \\nTITLE     CRYSTAL STRUCTURE OF INORGANIC PYROPHOSPHATASE FROM BURKHOLDERIA      \\nTITLE    2 PSEUDOMALLEI WITH BOUND PYROPHOSPHATE                                \\nCOMPND    MOL_ID: 1;                                                            \\nCOMPND   2 MOLECULE: INORGANIC PYROPHOSPHATASE;                                 \\nCOMPND   3 CHAIN: A;                                                            \\nCOMPND   4 EC: 3.6.1.1;                                                         \\nCOMPND   5 ENGINEERED: YES                                                      \\nSOURCE    MOL_ID: 1;                                                            \\nSOURCE   2 ORGANISM_SCIENTIFIC: BURKHOLDERIA PSEUDOMALLEI 1710B;                \\nSOURCE   3 ORGANISM_TAXID: 320372;                                              \\nSOURCE   4 GENE: PPA, BURPS1710B_1237;                                          \\nSOURCE   5 EXPRESSION_SYSTEM'"
      ]
     },
     "execution_count": 17,
     "metadata": {},
     "output_type": "execute_result"
    }
   ],
   "source": [
    "ppdb.pdb_text[:1000]"
   ]
  },
  {
   "cell_type": "code",
   "execution_count": 18,
   "metadata": {},
   "outputs": [
    {
     "data": {
      "text/html": [
       "<div>\n",
       "<style scoped>\n",
       "    .dataframe tbody tr th:only-of-type {\n",
       "        vertical-align: middle;\n",
       "    }\n",
       "\n",
       "    .dataframe tbody tr th {\n",
       "        vertical-align: top;\n",
       "    }\n",
       "\n",
       "    .dataframe thead th {\n",
       "        text-align: right;\n",
       "    }\n",
       "</style>\n",
       "<table border=\"1\" class=\"dataframe\">\n",
       "  <thead>\n",
       "    <tr style=\"text-align: right;\">\n",
       "      <th></th>\n",
       "      <th>record_name</th>\n",
       "      <th>atom_number</th>\n",
       "      <th>blank_1</th>\n",
       "      <th>atom_name</th>\n",
       "      <th>alt_loc</th>\n",
       "      <th>residue_name</th>\n",
       "      <th>blank_2</th>\n",
       "      <th>chain_id</th>\n",
       "      <th>residue_number</th>\n",
       "      <th>insertion</th>\n",
       "      <th>blank_3</th>\n",
       "      <th>x_coord</th>\n",
       "      <th>y_coord</th>\n",
       "      <th>z_coord</th>\n",
       "      <th>occupancy</th>\n",
       "      <th>b_factor</th>\n",
       "      <th>blank_4</th>\n",
       "      <th>segment_id</th>\n",
       "      <th>element_symbol</th>\n",
       "      <th>charge</th>\n",
       "      <th>line_idx</th>\n",
       "    </tr>\n",
       "  </thead>\n",
       "  <tbody>\n",
       "    <tr>\n",
       "      <th>0</th>\n",
       "      <td>ATOM</td>\n",
       "      <td>1</td>\n",
       "      <td></td>\n",
       "      <td>N</td>\n",
       "      <td></td>\n",
       "      <td>SER</td>\n",
       "      <td></td>\n",
       "      <td>A</td>\n",
       "      <td>2</td>\n",
       "      <td></td>\n",
       "      <td></td>\n",
       "      <td>2.527</td>\n",
       "      <td>54.656</td>\n",
       "      <td>-1.667</td>\n",
       "      <td>1.0</td>\n",
       "      <td>52.73</td>\n",
       "      <td></td>\n",
       "      <td></td>\n",
       "      <td>N</td>\n",
       "      <td>NaN</td>\n",
       "      <td>609</td>\n",
       "    </tr>\n",
       "    <tr>\n",
       "      <th>1</th>\n",
       "      <td>ATOM</td>\n",
       "      <td>2</td>\n",
       "      <td></td>\n",
       "      <td>CA</td>\n",
       "      <td></td>\n",
       "      <td>SER</td>\n",
       "      <td></td>\n",
       "      <td>A</td>\n",
       "      <td>2</td>\n",
       "      <td></td>\n",
       "      <td></td>\n",
       "      <td>3.259</td>\n",
       "      <td>54.783</td>\n",
       "      <td>-0.368</td>\n",
       "      <td>1.0</td>\n",
       "      <td>52.54</td>\n",
       "      <td></td>\n",
       "      <td></td>\n",
       "      <td>C</td>\n",
       "      <td>NaN</td>\n",
       "      <td>610</td>\n",
       "    </tr>\n",
       "    <tr>\n",
       "      <th>2</th>\n",
       "      <td>ATOM</td>\n",
       "      <td>3</td>\n",
       "      <td></td>\n",
       "      <td>C</td>\n",
       "      <td></td>\n",
       "      <td>SER</td>\n",
       "      <td></td>\n",
       "      <td>A</td>\n",
       "      <td>2</td>\n",
       "      <td></td>\n",
       "      <td></td>\n",
       "      <td>4.127</td>\n",
       "      <td>53.553</td>\n",
       "      <td>-0.105</td>\n",
       "      <td>1.0</td>\n",
       "      <td>52.03</td>\n",
       "      <td></td>\n",
       "      <td></td>\n",
       "      <td>C</td>\n",
       "      <td>NaN</td>\n",
       "      <td>611</td>\n",
       "    </tr>\n",
       "    <tr>\n",
       "      <th>3</th>\n",
       "      <td>ATOM</td>\n",
       "      <td>4</td>\n",
       "      <td></td>\n",
       "      <td>O</td>\n",
       "      <td></td>\n",
       "      <td>SER</td>\n",
       "      <td></td>\n",
       "      <td>A</td>\n",
       "      <td>2</td>\n",
       "      <td></td>\n",
       "      <td></td>\n",
       "      <td>5.274</td>\n",
       "      <td>53.451</td>\n",
       "      <td>-0.594</td>\n",
       "      <td>1.0</td>\n",
       "      <td>52.45</td>\n",
       "      <td></td>\n",
       "      <td></td>\n",
       "      <td>O</td>\n",
       "      <td>NaN</td>\n",
       "      <td>612</td>\n",
       "    </tr>\n",
       "    <tr>\n",
       "      <th>4</th>\n",
       "      <td>ATOM</td>\n",
       "      <td>5</td>\n",
       "      <td></td>\n",
       "      <td>CB</td>\n",
       "      <td></td>\n",
       "      <td>SER</td>\n",
       "      <td></td>\n",
       "      <td>A</td>\n",
       "      <td>2</td>\n",
       "      <td></td>\n",
       "      <td></td>\n",
       "      <td>2.273</td>\n",
       "      <td>54.944</td>\n",
       "      <td>0.792</td>\n",
       "      <td>1.0</td>\n",
       "      <td>52.69</td>\n",
       "      <td></td>\n",
       "      <td></td>\n",
       "      <td>C</td>\n",
       "      <td>NaN</td>\n",
       "      <td>613</td>\n",
       "    </tr>\n",
       "  </tbody>\n",
       "</table>\n",
       "</div>"
      ],
      "text/plain": [
       "  record_name  atom_number blank_1  ... element_symbol charge line_idx\n",
       "0        ATOM            1          ...              N    NaN      609\n",
       "1        ATOM            2          ...              C    NaN      610\n",
       "2        ATOM            3          ...              C    NaN      611\n",
       "3        ATOM            4          ...              O    NaN      612\n",
       "4        ATOM            5          ...              C    NaN      613\n",
       "\n",
       "[5 rows x 21 columns]"
      ]
     },
     "execution_count": 18,
     "metadata": {},
     "output_type": "execute_result"
    }
   ],
   "source": [
    "# convert into pandas df \n",
    "ppdb.df['ATOM'].head() "
   ]
  },
  {
   "cell_type": "code",
   "execution_count": 19,
   "metadata": {},
   "outputs": [
    {
     "data": {
      "text/html": [
       "<div>\n",
       "<style scoped>\n",
       "    .dataframe tbody tr th:only-of-type {\n",
       "        vertical-align: middle;\n",
       "    }\n",
       "\n",
       "    .dataframe tbody tr th {\n",
       "        vertical-align: top;\n",
       "    }\n",
       "\n",
       "    .dataframe thead th {\n",
       "        text-align: right;\n",
       "    }\n",
       "</style>\n",
       "<table border=\"1\" class=\"dataframe\">\n",
       "  <thead>\n",
       "    <tr style=\"text-align: right;\">\n",
       "      <th></th>\n",
       "      <th>record_name</th>\n",
       "      <th>atom_number</th>\n",
       "      <th>blank_1</th>\n",
       "      <th>atom_name</th>\n",
       "      <th>alt_loc</th>\n",
       "      <th>residue_name</th>\n",
       "      <th>blank_2</th>\n",
       "      <th>chain_id</th>\n",
       "      <th>residue_number</th>\n",
       "      <th>insertion</th>\n",
       "      <th>blank_3</th>\n",
       "      <th>x_coord</th>\n",
       "      <th>y_coord</th>\n",
       "      <th>z_coord</th>\n",
       "      <th>occupancy</th>\n",
       "      <th>b_factor</th>\n",
       "      <th>blank_4</th>\n",
       "      <th>segment_id</th>\n",
       "      <th>element_symbol</th>\n",
       "      <th>charge</th>\n",
       "      <th>line_idx</th>\n",
       "    </tr>\n",
       "  </thead>\n",
       "  <tbody>\n",
       "    <tr>\n",
       "      <th>0</th>\n",
       "      <td>HETATM</td>\n",
       "      <td>1332</td>\n",
       "      <td></td>\n",
       "      <td>K</td>\n",
       "      <td></td>\n",
       "      <td>K</td>\n",
       "      <td></td>\n",
       "      <td>A</td>\n",
       "      <td>176</td>\n",
       "      <td></td>\n",
       "      <td></td>\n",
       "      <td>24.990</td>\n",
       "      <td>43.276</td>\n",
       "      <td>0.005</td>\n",
       "      <td>0.5</td>\n",
       "      <td>24.45</td>\n",
       "      <td></td>\n",
       "      <td></td>\n",
       "      <td>K</td>\n",
       "      <td>NaN</td>\n",
       "      <td>1940</td>\n",
       "    </tr>\n",
       "    <tr>\n",
       "      <th>1</th>\n",
       "      <td>HETATM</td>\n",
       "      <td>1333</td>\n",
       "      <td></td>\n",
       "      <td>NA</td>\n",
       "      <td></td>\n",
       "      <td>NA</td>\n",
       "      <td></td>\n",
       "      <td>A</td>\n",
       "      <td>177</td>\n",
       "      <td></td>\n",
       "      <td></td>\n",
       "      <td>1.633</td>\n",
       "      <td>34.181</td>\n",
       "      <td>11.897</td>\n",
       "      <td>1.0</td>\n",
       "      <td>26.73</td>\n",
       "      <td></td>\n",
       "      <td></td>\n",
       "      <td>NA</td>\n",
       "      <td>NaN</td>\n",
       "      <td>1941</td>\n",
       "    </tr>\n",
       "    <tr>\n",
       "      <th>2</th>\n",
       "      <td>HETATM</td>\n",
       "      <td>1334</td>\n",
       "      <td></td>\n",
       "      <td>NA</td>\n",
       "      <td></td>\n",
       "      <td>NA</td>\n",
       "      <td></td>\n",
       "      <td>A</td>\n",
       "      <td>178</td>\n",
       "      <td></td>\n",
       "      <td></td>\n",
       "      <td>6.489</td>\n",
       "      <td>35.143</td>\n",
       "      <td>8.444</td>\n",
       "      <td>1.0</td>\n",
       "      <td>30.89</td>\n",
       "      <td></td>\n",
       "      <td></td>\n",
       "      <td>NA</td>\n",
       "      <td>NaN</td>\n",
       "      <td>1942</td>\n",
       "    </tr>\n",
       "    <tr>\n",
       "      <th>3</th>\n",
       "      <td>HETATM</td>\n",
       "      <td>1335</td>\n",
       "      <td></td>\n",
       "      <td>P1</td>\n",
       "      <td></td>\n",
       "      <td>POP</td>\n",
       "      <td></td>\n",
       "      <td>A</td>\n",
       "      <td>179</td>\n",
       "      <td></td>\n",
       "      <td></td>\n",
       "      <td>1.233</td>\n",
       "      <td>37.542</td>\n",
       "      <td>11.212</td>\n",
       "      <td>1.0</td>\n",
       "      <td>32.68</td>\n",
       "      <td></td>\n",
       "      <td></td>\n",
       "      <td>P</td>\n",
       "      <td>NaN</td>\n",
       "      <td>1943</td>\n",
       "    </tr>\n",
       "    <tr>\n",
       "      <th>4</th>\n",
       "      <td>HETATM</td>\n",
       "      <td>1336</td>\n",
       "      <td></td>\n",
       "      <td>O1</td>\n",
       "      <td></td>\n",
       "      <td>POP</td>\n",
       "      <td></td>\n",
       "      <td>A</td>\n",
       "      <td>179</td>\n",
       "      <td></td>\n",
       "      <td></td>\n",
       "      <td>1.910</td>\n",
       "      <td>38.831</td>\n",
       "      <td>11.612</td>\n",
       "      <td>1.0</td>\n",
       "      <td>32.62</td>\n",
       "      <td></td>\n",
       "      <td></td>\n",
       "      <td>O</td>\n",
       "      <td>NaN</td>\n",
       "      <td>1944</td>\n",
       "    </tr>\n",
       "  </tbody>\n",
       "</table>\n",
       "</div>"
      ],
      "text/plain": [
       "  record_name  atom_number blank_1  ... element_symbol charge line_idx\n",
       "0      HETATM         1332          ...              K    NaN     1940\n",
       "1      HETATM         1333          ...             NA    NaN     1941\n",
       "2      HETATM         1334          ...             NA    NaN     1942\n",
       "3      HETATM         1335          ...              P    NaN     1943\n",
       "4      HETATM         1336          ...              O    NaN     1944\n",
       "\n",
       "[5 rows x 21 columns]"
      ]
     },
     "execution_count": 19,
     "metadata": {},
     "output_type": "execute_result"
    }
   ],
   "source": [
    "# convert into pandas df \n",
    "ppdb.df['HETATM'].head() "
   ]
  },
  {
   "cell_type": "code",
   "execution_count": 21,
   "metadata": {},
   "outputs": [
    {
     "data": {
      "text/html": [
       "<div>\n",
       "<style scoped>\n",
       "    .dataframe tbody tr th:only-of-type {\n",
       "        vertical-align: middle;\n",
       "    }\n",
       "\n",
       "    .dataframe tbody tr th {\n",
       "        vertical-align: top;\n",
       "    }\n",
       "\n",
       "    .dataframe thead th {\n",
       "        text-align: right;\n",
       "    }\n",
       "</style>\n",
       "<table border=\"1\" class=\"dataframe\">\n",
       "  <thead>\n",
       "    <tr style=\"text-align: right;\">\n",
       "      <th></th>\n",
       "      <th>record_name</th>\n",
       "      <th>atom_number</th>\n",
       "      <th>blank_1</th>\n",
       "      <th>atom_name</th>\n",
       "      <th>alt_loc</th>\n",
       "      <th>residue_name</th>\n",
       "      <th>blank_2</th>\n",
       "      <th>chain_id</th>\n",
       "      <th>residue_number</th>\n",
       "      <th>insertion</th>\n",
       "      <th>blank_3</th>\n",
       "      <th>U(1,1)</th>\n",
       "      <th>U(2,2)</th>\n",
       "      <th>U(3,3)</th>\n",
       "      <th>U(1,2)</th>\n",
       "      <th>U(1,3)</th>\n",
       "      <th>U(2,3)</th>\n",
       "      <th>blank_4</th>\n",
       "      <th>element_symbol</th>\n",
       "      <th>charge</th>\n",
       "      <th>line_idx</th>\n",
       "    </tr>\n",
       "  </thead>\n",
       "  <tbody>\n",
       "  </tbody>\n",
       "</table>\n",
       "</div>"
      ],
      "text/plain": [
       "Empty DataFrame\n",
       "Columns: [record_name, atom_number, blank_1, atom_name, alt_loc, residue_name, blank_2, chain_id, residue_number, insertion, blank_3, U(1,1), U(2,2), U(3,3), U(1,2), U(1,3), U(2,3), blank_4, element_symbol, charge, line_idx]\n",
       "Index: []"
      ]
     },
     "execution_count": 21,
     "metadata": {},
     "output_type": "execute_result"
    }
   ],
   "source": [
    "ppdb.df['ANISOU'].head() "
   ]
  },
  {
   "cell_type": "code",
   "execution_count": 22,
   "metadata": {},
   "outputs": [
    {
     "data": {
      "text/html": [
       "<div>\n",
       "<style scoped>\n",
       "    .dataframe tbody tr th:only-of-type {\n",
       "        vertical-align: middle;\n",
       "    }\n",
       "\n",
       "    .dataframe tbody tr th {\n",
       "        vertical-align: top;\n",
       "    }\n",
       "\n",
       "    .dataframe thead th {\n",
       "        text-align: right;\n",
       "    }\n",
       "</style>\n",
       "<table border=\"1\" class=\"dataframe\">\n",
       "  <thead>\n",
       "    <tr style=\"text-align: right;\">\n",
       "      <th></th>\n",
       "      <th>record_name</th>\n",
       "      <th>entry</th>\n",
       "      <th>line_idx</th>\n",
       "    </tr>\n",
       "  </thead>\n",
       "  <tbody>\n",
       "    <tr>\n",
       "      <th>0</th>\n",
       "      <td>HEADER</td>\n",
       "      <td>HYDROLASE                               17...</td>\n",
       "      <td>0</td>\n",
       "    </tr>\n",
       "    <tr>\n",
       "      <th>1</th>\n",
       "      <td>TITLE</td>\n",
       "      <td>CRYSTAL STRUCTURE OF INORGANIC PYROPHOSPHA...</td>\n",
       "      <td>1</td>\n",
       "    </tr>\n",
       "    <tr>\n",
       "      <th>2</th>\n",
       "      <td>TITLE</td>\n",
       "      <td>2 PSEUDOMALLEI WITH BOUND PYROPHOSPHATE</td>\n",
       "      <td>2</td>\n",
       "    </tr>\n",
       "    <tr>\n",
       "      <th>3</th>\n",
       "      <td>COMPND</td>\n",
       "      <td>MOL_ID: 1;</td>\n",
       "      <td>3</td>\n",
       "    </tr>\n",
       "    <tr>\n",
       "      <th>4</th>\n",
       "      <td>COMPND</td>\n",
       "      <td>2 MOLECULE: INORGANIC PYROPHOSPHATASE;</td>\n",
       "      <td>4</td>\n",
       "    </tr>\n",
       "  </tbody>\n",
       "</table>\n",
       "</div>"
      ],
      "text/plain": [
       "  record_name                                              entry  line_idx\n",
       "0      HEADER      HYDROLASE                               17...         0\n",
       "1       TITLE      CRYSTAL STRUCTURE OF INORGANIC PYROPHOSPHA...         1\n",
       "2       TITLE            2 PSEUDOMALLEI WITH BOUND PYROPHOSPHATE         2\n",
       "3      COMPND                                         MOL_ID: 1;         3\n",
       "4      COMPND             2 MOLECULE: INORGANIC PYROPHOSPHATASE;         4"
      ]
     },
     "execution_count": 22,
     "metadata": {},
     "output_type": "execute_result"
    }
   ],
   "source": [
    "ppdb.df['OTHERS'].head() "
   ]
  },
  {
   "cell_type": "code",
   "execution_count": 20,
   "metadata": {},
   "outputs": [
    {
     "data": {
      "text/plain": [
       "dict_keys(['ATOM', 'HETATM', 'ANISOU', 'OTHERS'])"
      ]
     },
     "execution_count": 20,
     "metadata": {},
     "output_type": "execute_result"
    }
   ],
   "source": [
    "ppdb.df.keys() "
   ]
  },
  {
   "cell_type": "code",
   "execution_count": 23,
   "metadata": {},
   "outputs": [
    {
     "data": {
      "text/plain": [
       "record_name        object\n",
       "atom_number         int64\n",
       "blank_1            object\n",
       "atom_name          object\n",
       "alt_loc            object\n",
       "residue_name       object\n",
       "blank_2            object\n",
       "chain_id           object\n",
       "residue_number      int64\n",
       "insertion          object\n",
       "blank_3            object\n",
       "x_coord           float64\n",
       "y_coord           float64\n",
       "z_coord           float64\n",
       "occupancy         float64\n",
       "b_factor          float64\n",
       "blank_4            object\n",
       "segment_id         object\n",
       "element_symbol     object\n",
       "charge            float64\n",
       "line_idx            int64\n",
       "dtype: object"
      ]
     },
     "execution_count": 23,
     "metadata": {},
     "output_type": "execute_result"
    }
   ],
   "source": [
    "# dtypes\n",
    "ppdb.df['ATOM'].dtypes "
   ]
  },
  {
   "cell_type": "code",
   "execution_count": 24,
   "metadata": {},
   "outputs": [],
   "source": [
    "import matplotlib.pyplot as plt \n",
    "plt.style.use('ggplot')"
   ]
  },
  {
   "cell_type": "code",
   "execution_count": 26,
   "metadata": {},
   "outputs": [
    {
     "data": {
      "image/png": "[encoded data removed]",
      "text/plain": [
       "<Figure size 432x288 with 1 Axes>"
      ]
     },
     "metadata": {},
     "output_type": "display_data"
    }
   ],
   "source": [
    "ppdb.df['ATOM']['b_factor'].plot(kind='hist')\n",
    "plt.title('Distribution of B-Factor')\n",
    "plt.xlabel('B-Factor')\n",
    "plt.ylabel('Frequency')\n",
    "plt.show() "
   ]
  },
  {
   "cell_type": "code",
   "execution_count": 28,
   "metadata": {},
   "outputs": [
    {
     "data": {
      "image/png": "[encoded data removed]",
      "text/plain": [
       "<Figure size 432x288 with 1 Axes>"
      ]
     },
     "metadata": {},
     "output_type": "display_data"
    }
   ],
   "source": [
    "ppdb.df['ATOM']['b_factor'].plot(kind='line')\n",
    "plt.title('B-Factor Along the Amino Acid Chain')\n",
    "plt.xlabel('Residue Number')\n",
    "plt.ylabel('B-Factor')\n",
    "plt.show() "
   ]
  },
  {
   "cell_type": "code",
   "execution_count": 29,
   "metadata": {},
   "outputs": [
    {
     "data": {
      "text/plain": [
       "C    857\n",
       "O    251\n",
       "N    217\n",
       "S      5\n",
       "Name: element_symbol, dtype: int64"
      ]
     },
     "execution_count": 29,
     "metadata": {},
     "output_type": "execute_result"
    }
   ],
   "source": [
    "ppdb.df['ATOM']['element_symbol'].value_counts() "
   ]
  },
  {
   "cell_type": "code",
   "execution_count": 31,
   "metadata": {},
   "outputs": [
    {
     "data": {
      "image/png": "[encoded data removed]",
      "text/plain": [
       "<Figure size 432x288 with 1 Axes>"
      ]
     },
     "metadata": {},
     "output_type": "display_data"
    }
   ],
   "source": [
    "ppdb.df['ATOM']['element_symbol'].value_counts().plot(kind='bar')\n",
    "plt.title('Distribution of Atom Types')\n",
    "plt.xlabel('Elements')\n",
    "plt.ylabel('Counts')\n",
    "plt.show() "
   ]
  }
 ],
 "metadata": {
  "kernelspec": {
   "display_name": "Python 3",
   "language": "python",
   "name": "python3"
  },
  "language_info": {
   "codemirror_mode": {
    "name": "ipython",
    "version": 3
   },
   "file_extension": ".py",
   "mimetype": "text/x-python",
   "name": "python",
   "nbconvert_exporter": "python",
   "pygments_lexer": "ipython3",
   "version": "3.8.3"
  },
  "latex_envs": {
   "LaTeX_envs_menu_present": true,
   "autoclose": false,
   "autocomplete": true,
   "bibliofile": "biblio.bib",
   "cite_by": "apalike",
   "current_citInitial": 1,
   "eqLabelWithNumbers": true,
   "eqNumInitial": 1,
   "hotkeys": {
    "equation": "Ctrl-E",
    "itemize": "Ctrl-I"
   },
   "labels_anchors": false,
   "latex_user_defs": false,
   "report_style_numbering": false,
   "user_envs_cfg": false
  }
 },
 "nbformat": 4,
 "nbformat_minor": 4
}
