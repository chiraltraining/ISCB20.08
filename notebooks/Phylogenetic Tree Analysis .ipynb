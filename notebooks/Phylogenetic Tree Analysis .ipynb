{
 "cells": [
  {
   "cell_type": "markdown",
   "metadata": {
    "id": "WPYOtT9Ud6oO"
   },
   "source": [
    "# Phylogenetic Tree Analysis"
   ]
  },
  {
   "cell_type": "markdown",
   "metadata": {
    "id": "KjM4_ehCd6ob"
   },
   "source": [
    "## What is phylogenetic tree?\n",
    "Phylogenetics is the study of the evolutionary history and relationships among individuals or groups of organisms\n",
    "\n",
    "## Key points\n",
    "- A phylogenetic tree is a diagram that represents evolutionary relationships among organisms. Phylogenetic trees are hypotheses, not definitive facts\n",
    "- The pattern of branching in a phylogenetic tree reflects how species or other groups evolved from a series   of common ancestors.\n",
    "- In trees, two species are more related if they have a more recent common ancestor and less related if they have a less recent common ancestor.\n",
    "- Phylogenetic trees can be drawn in various equivalent styles. Rotating a tree about its branch points doesn't change the information it carries.\n",
    "\n",
    "## Types of phylogenetic tree\n",
    "- Rooted : Rooted tree directed to a unique node.\n",
    "- Unrooted : Unrooted tree shows the relatedness of the leaves\n",
    "  without assuming ancestry at all \n",
    "\n",
    "## Anatomy of a tree\n",
    "- Root: origin of evolution\n",
    "- Leaves: current organisms, species, or genomic\n",
    "  sequence \n",
    "- Branches: relationship between organisms, species,\n",
    "    or genomic sequence \n",
    "- Branch length: evolutionary time \n",
    "![Phylo](../img/anatomy.png)\n",
    "\n",
    "## Most recent common ancestor\n",
    "![Phylo](../img/common.png)\n",
    "\n",
    "## Which species are more related?\n",
    "![Phylo](../img/ancestors.png)\n",
    "\n",
    "## Steps of constructing phylogenetic tree\n",
    "- Step 1: Acquiring the Sequences\n",
    "    - DNA Sequences\n",
    "    - Protein Sequences\n",
    "- Step 2: Multiple sequence alignment\n",
    "    - MEGA\n",
    "    - ClustalW\n",
    "- Step 3: Model/Algorithms selection\n",
    "    - UPGAMA\n",
    "    - NJ\n",
    "- Step 4: Phylogenetic tree construction\n",
    "    - Distance based methods\n",
    "    - Probabilistic methods\n",
    "    - Maximum Parsimony (MP) methods\n",
    "- Step 5: Evaluation/Analysis of tree\n",
    "    - Statistical analysis"
   ]
  },
  {
   "cell_type": "markdown",
   "metadata": {
    "id": "YUNYBqVkd6od"
   },
   "source": [
    "# Implementation in Python\n",
    "\n",
    "## DistanceTreeConstructor\n",
    "- The DistanceTreeConstructor has two algorithms:\n",
    "    - UPGMA (Unweighted Pair Group Method with Arithmetic Mean)\n",
    "    - NJ (Neighbor Joining)\n",
    "- Both algorithms construct trees based on a distance matrix. \n",
    "- So before using these algorithms, you have to calculate distance matrix from a multiple sequence alignment object by using **DistanceCalculator**"
   ]
  },
  {
   "cell_type": "code",
   "execution_count": 5,
   "metadata": {
    "id": "9gUtaP0Hd6oe"
   },
   "outputs": [],
   "source": [
    "# Essential imports \n",
    "from Bio import Phylo\n",
    "from Bio.Phylo.TreeConstruction import DistanceCalculator\n",
    "from Bio.Phylo.TreeConstruction import DistanceTreeConstructor\n",
    "from Bio import AlignIO\n",
    "import seaborn as sns \n",
    "sns.set_style('whitegrid')"
   ]
  },
  {
   "cell_type": "code",
   "execution_count": 2,
   "metadata": {
    "id": "1WhVhqRrd6of",
    "outputId": "3a922aeb-a502-4f36-89f9-ed447c4dac93"
   },
   "outputs": [
    {
     "name": "stdout",
     "output_type": "stream",
     "text": [
      "Alignment with 5 rows and 13 columns\n",
      "AACGTGGCCACAT Alpha\n",
      "AAGGTCGCCACAC Beta\n",
      "CAGTTCGCCACAA Gamma\n",
      "GAGATTTCCGCCT Delta\n",
      "GAGATCTCCGCCC Epsilon\n"
     ]
    }
   ],
   "source": [
    "# Read sequence(MSA)\n",
    "seq = AlignIO.read(\"../data/msa.phy\", \"phylip\")\n",
    "print(seq)"
   ]
  },
  {
   "cell_type": "markdown",
   "metadata": {
    "id": "Syc_BhRSd6oi"
   },
   "source": [
    "## Distance Matrix Calculation"
   ]
  },
  {
   "cell_type": "code",
   "execution_count": 3,
   "metadata": {
    "id": "HLPS7aDGd6oj",
    "outputId": "1c94d8bb-fbac-4878-8809-fbcc834d006a"
   },
   "outputs": [
    {
     "name": "stdout",
     "output_type": "stream",
     "text": [
      "Alpha\t0\n",
      "Beta\t0.23076923076923073\t0\n",
      "Gamma\t0.3846153846153846\t0.23076923076923073\t0\n",
      "Delta\t0.5384615384615384\t0.5384615384615384\t0.5384615384615384\t0\n",
      "Epsilon\t0.6153846153846154\t0.3846153846153846\t0.46153846153846156\t0.15384615384615385\t0\n",
      "\tAlpha\tBeta\tGamma\tDelta\tEpsilon\n"
     ]
    }
   ],
   "source": [
    "# Calculate distance matrix \n",
    "cal = DistanceCalculator('identity')\n",
    "dm = cal.get_distance(seq)\n",
    "print(dm)"
   ]
  },
  {
   "cell_type": "markdown",
   "metadata": {
    "id": "wa6k0IVMd6oj"
   },
   "source": [
    "## Tree Construction: UPGMA "
   ]
  },
  {
   "cell_type": "code",
   "execution_count": 6,
   "metadata": {
    "id": "JhfUyUwLd6ok",
    "outputId": "58571842-f626-4e95-d40b-a2e8661834a8"
   },
   "outputs": [
    {
     "data": {
      "image/png": "[encoded data removed]",
      "text/plain": [
       "<Figure size 432x288 with 1 Axes>"
      ]
     },
     "metadata": {},
     "output_type": "display_data"
    }
   ],
   "source": [
    "tree_constructor = DistanceTreeConstructor()\n",
    "tree = tree_constructor.upgma(dm)\n",
    "Phylo.draw(tree)\n",
    "# Phylo.draw_ascii(tree)"
   ]
  },
  {
   "cell_type": "code",
   "execution_count": 8,
   "metadata": {},
   "outputs": [
    {
     "name": "stdout",
     "output_type": "stream",
     "text": [
      "                                                  ____________________ Epsilon\n",
      "  _______________________________________________|\n",
      " |                                               |____________________ Delta\n",
      "_|\n",
      " |                                      ______________________________ Gamma\n",
      " |                            _________|\n",
      " |___________________________|         |______________________________ Beta\n",
      "                             |\n",
      "                             |________________________________________ Alpha\n",
      "\n"
     ]
    }
   ],
   "source": [
    "# ASCII  format \n",
    "Phylo.draw_ascii(tree)"
   ]
  },
  {
   "cell_type": "markdown",
   "metadata": {
    "id": "SdEC_A9Ad6ol"
   },
   "source": [
    "## Tree Construction: NJ"
   ]
  },
  {
   "cell_type": "code",
   "execution_count": 9,
   "metadata": {
    "id": "ULGEXzgid6ol",
    "outputId": "c08d72df-676e-40c8-be51-409c1fe348ee"
   },
   "outputs": [
    {
     "data": {
      "image/png": "[encoded data removed]",
      "text/plain": [
       "<Figure size 432x288 with 1 Axes>"
      ]
     },
     "metadata": {},
     "output_type": "display_data"
    }
   ],
   "source": [
    "tree_constructor = DistanceTreeConstructor()\n",
    "tree = tree_constructor.nj(dm)\n",
    "Phylo.draw(tree)"
   ]
  },
  {
   "cell_type": "code",
   "execution_count": 10,
   "metadata": {},
   "outputs": [
    {
     "name": "stdout",
     "output_type": "stream",
     "text": [
      "  ____________________________ Alpha\n",
      " |\n",
      " |______ Beta\n",
      "_|\n",
      " |                                                    _______ Epsilon\n",
      " |       ____________________________________________|\n",
      " |______|                                            |________________ Delta\n",
      "        |\n",
      "        |______________________ Gamma\n",
      "\n"
     ]
    }
   ],
   "source": [
    "Phylo.draw_ascii(tree)"
   ]
  },
  {
   "cell_type": "markdown",
   "metadata": {
    "id": "ehAOn0Nyd6om"
   },
   "source": [
    "## References \n",
    "- https://www.khanacademy.org/science/high-school-biology/hs-evolution/hs-phylogeny/a/phylogenetic-trees\n",
    "- https://biopython.org/wiki/Phylo\n",
    "- https://www.pellegrini.mcdb.ucla.edu/wp-content/uploads/sites/21/2017/07/week-3c-Phylogenetic_Tree_ConstructionMai-copy.pdf\n",
    "- https://academic.oup.com/mbe/article/30/5/1229/992850"
   ]
  }
 ],
 "metadata": {
  "colab": {
   "name": "Phylogenetic Tree.ipynb",
   "provenance": []
  },
  "kernelspec": {
   "display_name": "Python 3",
   "language": "python",
   "name": "python3"
  },
  "language_info": {
   "codemirror_mode": {
    "name": "ipython",
    "version": 3
   },
   "file_extension": ".py",
   "mimetype": "text/x-python",
   "name": "python",
   "nbconvert_exporter": "python",
   "pygments_lexer": "ipython3",
   "version": "3.8.3"
  },
  "latex_envs": {
   "LaTeX_envs_menu_present": true,
   "autoclose": false,
   "autocomplete": true,
   "bibliofile": "biblio.bib",
   "cite_by": "apalike",
   "current_citInitial": 1,
   "eqLabelWithNumbers": true,
   "eqNumInitial": 1,
   "hotkeys": {
    "equation": "Ctrl-E",
    "itemize": "Ctrl-I"
   },
   "labels_anchors": false,
   "latex_user_defs": false,
   "report_style_numbering": false,
   "user_envs_cfg": false
  },
  "toc": {
   "base_numbering": 1,
   "nav_menu": {},
   "number_sections": true,
   "sideBar": true,
   "skip_h1_title": false,
   "title_cell": "Table of Contents",
   "title_sidebar": "Contents",
   "toc_cell": false,
   "toc_position": {},
   "toc_section_display": true,
   "toc_window_display": false
  }
 },
 "nbformat": 4,
 "nbformat_minor": 1
}
