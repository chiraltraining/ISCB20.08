{
 "cells": [
  {
   "cell_type": "code",
   "execution_count": 3,
   "metadata": {},
   "outputs": [],
   "source": [
    "from Bio import SeqIO"
   ]
  },
  {
   "cell_type": "code",
   "execution_count": 4,
   "metadata": {},
   "outputs": [],
   "source": [
    "def readFASTA(inputfile): \n",
    "    \"\"\"Reads a FASTA file and returns it with special character removed\"\"\"\n",
    "    for record in SeqIO.parse(inputfile, \"fasta\"): \n",
    "        seq = record.seq\n",
    "    return seq "
   ]
  },
  {
   "cell_type": "code",
   "execution_count": 5,
   "metadata": {},
   "outputs": [],
   "source": [
    "# reading data \n",
    "den1 = readFASTA('../data/den1.fasta')\n",
    "den2 = readFASTA('../data/den2.fasta')\n",
    "den3 = readFASTA('../data/den3.fasta')\n",
    "den4 = readFASTA('../data/den4.fasta')"
   ]
  },
  {
   "cell_type": "code",
   "execution_count": 6,
   "metadata": {},
   "outputs": [
    {
     "name": "stdout",
     "output_type": "stream",
     "text": [
      "Length of DEN1 = 10735\n",
      "Length of DEN2 = 10723\n",
      "Length of DEN3 = 10707\n",
      "Length of DEN4 = 10649\n"
     ]
    }
   ],
   "source": [
    "# len \n",
    "print(f'Length of DEN1 = {len(den1)}')\n",
    "print(f'Length of DEN2 = {len(den2)}')\n",
    "print(f'Length of DEN3 = {len(den3)}')\n",
    "print(f'Length of DEN4 = {len(den4)}')"
   ]
  },
  {
   "cell_type": "code",
   "execution_count": 7,
   "metadata": {},
   "outputs": [
    {
     "name": "stdout",
     "output_type": "stream",
     "text": [
      "<generator object parse at 0x7eff5f10f660>\n"
     ]
    }
   ],
   "source": [
    "from Bio import AlignIO\n",
    "alignments = AlignIO.parse(open('../data/den1.fasta'), 'fasta')\n",
    "print(alignments)"
   ]
  },
  {
   "cell_type": "code",
   "execution_count": 8,
   "metadata": {},
   "outputs": [
    {
     "name": "stdout",
     "output_type": "stream",
     "text": [
      "Alignment with 1 rows and 10735 columns\n",
      "AGTTGTTAGTCTACGTGGACCGACAAGAACAGTTTCGAATCGGA...TCT NC_001477.1\n"
     ]
    }
   ],
   "source": [
    "for algn in alignments: \n",
    "    print(algn)"
   ]
  },
  {
   "cell_type": "code",
   "execution_count": null,
   "metadata": {},
   "outputs": [],
   "source": []
  }
 ],
 "metadata": {
  "kernelspec": {
   "display_name": "Python 3",
   "language": "python",
   "name": "python3"
  },
  "language_info": {
   "codemirror_mode": {
    "name": "ipython",
    "version": 3
   },
   "file_extension": ".py",
   "mimetype": "text/x-python",
   "name": "python",
   "nbconvert_exporter": "python",
   "pygments_lexer": "ipython3",
   "version": "3.8.3"
  },
  "latex_envs": {
   "LaTeX_envs_menu_present": true,
   "autoclose": false,
   "autocomplete": true,
   "bibliofile": "biblio.bib",
   "cite_by": "apalike",
   "current_citInitial": 1,
   "eqLabelWithNumbers": true,
   "eqNumInitial": 1,
   "hotkeys": {
    "equation": "Ctrl-E",
    "itemize": "Ctrl-I"
   },
   "labels_anchors": false,
   "latex_user_defs": false,
   "report_style_numbering": false,
   "user_envs_cfg": false
  }
 },
 "nbformat": 4,
 "nbformat_minor": 4
}
