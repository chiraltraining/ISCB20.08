{
 "cells": [
  {
   "cell_type": "code",
   "execution_count": 51,
   "metadata": {},
   "outputs": [],
   "source": [
    "import screed # A Python library for reading FASTA and FASQ file format.\n",
    "from Bio import SeqIO \n",
    "\n",
    "class ReadSeq: \n",
    "    \"\"\"Class for Reading Sequence Data\"\"\"\n",
    "    def readText(self, inputfile): \n",
    "        # opne data \n",
    "        with open(inputfile, \"r\") as seqfile: \n",
    "            # read data \n",
    "            seq = seqfile.read()\n",
    "            # remove special characters \\n and \\t \n",
    "            seq = seq.replace(\"\\n\", \"\")\n",
    "            seq = seq.replace(\"\\t\", \"\") \n",
    "        return seq \n",
    "\n",
    "    def readFASTA(self, inputfile): \n",
    "        # open file \n",
    "        with open(inputfile, \"r\") as f: \n",
    "            # remove name line / info line \n",
    "            seq = f.readline()\n",
    "            # read data \n",
    "            seq = f.read() \n",
    "            # remove special character \n",
    "            seq = seq.replace(\"\\n\", \"\")\n",
    "            seq = seq.replace(\"\\t\", \"\") \n",
    "        return seq \n",
    "        \n",
    "    def readFastq(self, filename):\n",
    "        sequences = []\n",
    "        qualities = []\n",
    "        with open(filename) as fh:\n",
    "            while True:\n",
    "                fh.readline() # skip name line\n",
    "                seq = fh.readline().rstrip() # read base sequence\n",
    "                fh.readline() # skip placeholder line\n",
    "                qual = fh.readline().rstrip() #base quality line\n",
    "                if len(seq) == 0:\n",
    "                    break\n",
    "                sequences.append(seq)\n",
    "                qualities.append(qual)\n",
    "        return sequences, qualities\n",
    "    \n",
    "    def readFastaWithScreed(self, inputfile):\n",
    "        \"\"\"\n",
    "        Reads and returns file as FASTA format with special characters removed.\n",
    "        \"\"\"\n",
    "        with screed.open(inputfile) as seqfile:\n",
    "            for read in seqfile:\n",
    "                seq = read.sequence\n",
    "        return seq\n",
    "    \n",
    "    def readFastqWithScreed(self, inputfile):\n",
    "        \"\"\"\n",
    "        Reads and returns file as FASTA format with special characters removed.\n",
    "        \"\"\"\n",
    "        with screed.open(inputfile) as seqfile:\n",
    "            for read in seqfile:\n",
    "                seq = read.sequence\n",
    "        return seq \n",
    "    \n",
    "\n",
    "    def readFastqWithBiopython(self, inputfile):\n",
    "        \"\"\"\n",
    "        Reads and returns file as FASTA format with special characters removed.\n",
    "        \"\"\"\n",
    "        with open(inputfile) as seqfile:\n",
    "            for record in SeqIO.parse(seqfile, \"fasta\"): \n",
    "                seq = record.seq \n",
    "        return seq "
   ]
  },
  {
   "cell_type": "code",
   "execution_count": 52,
   "metadata": {},
   "outputs": [],
   "source": [
    "# create an object of ReadSeq class \n",
    "data = ReadSeq() "
   ]
  },
  {
   "cell_type": "code",
   "execution_count": 20,
   "metadata": {},
   "outputs": [],
   "source": [
    "seq1 = data.readFASTA(\"../data/Haemophilus_influenzae.fasta\")"
   ]
  },
  {
   "cell_type": "code",
   "execution_count": 21,
   "metadata": {},
   "outputs": [],
   "source": [
    "seq2 = data.readFastq(\"../data/SRR835775_1.first1000.fastq\")"
   ]
  },
  {
   "cell_type": "code",
   "execution_count": 30,
   "metadata": {},
   "outputs": [],
   "source": [
    "seq3 = data.readFastq(\"../data/dna.txt\")"
   ]
  },
  {
   "cell_type": "code",
   "execution_count": 53,
   "metadata": {},
   "outputs": [],
   "source": [
    "seq4 = data.readFastaWithScreed(\"../data/Haemophilus_influenzae.fasta\")"
   ]
  },
  {
   "cell_type": "code",
   "execution_count": 55,
   "metadata": {},
   "outputs": [],
   "source": [
    "seq5 = data.readFastqWithBiopython(\"../data/Haemophilus_influenzae.fasta\")"
   ]
  },
  {
   "cell_type": "code",
   "execution_count": null,
   "metadata": {},
   "outputs": [],
   "source": []
  }
 ],
 "metadata": {
  "kernelspec": {
   "display_name": "Python 3",
   "language": "python",
   "name": "python3"
  },
  "language_info": {
   "codemirror_mode": {
    "name": "ipython",
    "version": 3
   },
   "file_extension": ".py",
   "mimetype": "text/x-python",
   "name": "python",
   "nbconvert_exporter": "python",
   "pygments_lexer": "ipython3",
   "version": "3.7.4"
  },
  "latex_envs": {
   "LaTeX_envs_menu_present": true,
   "autoclose": false,
   "autocomplete": true,
   "bibliofile": "biblio.bib",
   "cite_by": "apalike",
   "current_citInitial": 1,
   "eqLabelWithNumbers": true,
   "eqNumInitial": 1,
   "hotkeys": {
    "equation": "Ctrl-E",
    "itemize": "Ctrl-I"
   },
   "labels_anchors": false,
   "latex_user_defs": false,
   "report_style_numbering": false,
   "user_envs_cfg": false
  },
  "toc": {
   "base_numbering": 1,
   "nav_menu": {},
   "number_sections": true,
   "sideBar": true,
   "skip_h1_title": false,
   "title_cell": "Table of Contents",
   "title_sidebar": "Contents",
   "toc_cell": false,
   "toc_position": {},
   "toc_section_display": true,
   "toc_window_display": false
  }
 },
 "nbformat": 4,
 "nbformat_minor": 4
}
